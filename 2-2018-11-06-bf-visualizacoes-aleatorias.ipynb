{
 "cells": [
  {
   "cell_type": "code",
   "execution_count": 1,
   "metadata": {},
   "outputs": [],
   "source": [
    "import altair as alt\n",
    "import pandas as pd\n",
    "from altair.expr import datum"
   ]
  },
  {
   "cell_type": "code",
   "execution_count": 2,
   "metadata": {},
   "outputs": [
    {
     "data": {
      "text/html": [
       "<div>\n",
       "<style scoped>\n",
       "    .dataframe tbody tr th:only-of-type {\n",
       "        vertical-align: middle;\n",
       "    }\n",
       "\n",
       "    .dataframe tbody tr th {\n",
       "        vertical-align: top;\n",
       "    }\n",
       "\n",
       "    .dataframe thead th {\n",
       "        text-align: right;\n",
       "    }\n",
       "</style>\n",
       "<table border=\"1\" class=\"dataframe\">\n",
       "  <thead>\n",
       "    <tr style=\"text-align: right;\">\n",
       "      <th></th>\n",
       "      <th>NR_TURNO</th>\n",
       "      <th>SG_UF</th>\n",
       "      <th>DS_CARGO</th>\n",
       "      <th>NR_CANDIDATO</th>\n",
       "      <th>NM_URNA_CANDIDATO</th>\n",
       "      <th>SG_PARTIDO</th>\n",
       "      <th>NM_COLIGACAO</th>\n",
       "      <th>DS_COMPOSICAO_COLIGACAO</th>\n",
       "      <th>NR_IDADE_DATA_POSSE</th>\n",
       "      <th>DS_GENERO</th>\n",
       "      <th>DS_GRAU_INSTRUCAO</th>\n",
       "      <th>DS_ESTADO_CIVIL</th>\n",
       "      <th>DS_COR_RACA</th>\n",
       "      <th>DS_OCUPACAO</th>\n",
       "      <th>DS_SIT_TOT_TURNO</th>\n",
       "    </tr>\n",
       "  </thead>\n",
       "  <tbody>\n",
       "    <tr>\n",
       "      <th>0</th>\n",
       "      <td>1</td>\n",
       "      <td>AC</td>\n",
       "      <td>DEPUTADO FEDERAL</td>\n",
       "      <td>5555</td>\n",
       "      <td>MARIVALDO MELO</td>\n",
       "      <td>PSD</td>\n",
       "      <td>Mudança e Competência 1</td>\n",
       "      <td>PP / PSDB / PSD / MDB / DEM / SOLIDARIEDADE / ...</td>\n",
       "      <td>54</td>\n",
       "      <td>MASCULINO</td>\n",
       "      <td>SUPERIOR COMPLETO</td>\n",
       "      <td>DIVORCIADO(A)</td>\n",
       "      <td>BRANCA</td>\n",
       "      <td>EMPRESÁRIO</td>\n",
       "      <td>SUPLENTE</td>\n",
       "    </tr>\n",
       "    <tr>\n",
       "      <th>1</th>\n",
       "      <td>1</td>\n",
       "      <td>AC</td>\n",
       "      <td>DEPUTADO ESTADUAL</td>\n",
       "      <td>50000</td>\n",
       "      <td>RONY CARTOLIN</td>\n",
       "      <td>PSOL</td>\n",
       "      <td>FRENTE - PSOL, PV, PRP E PPL</td>\n",
       "      <td>PSOL / PV / PRP / PPL</td>\n",
       "      <td>30</td>\n",
       "      <td>MASCULINO</td>\n",
       "      <td>SUPERIOR INCOMPLETO</td>\n",
       "      <td>SOLTEIRO(A)</td>\n",
       "      <td>INDÍGENA</td>\n",
       "      <td>DETETIVE PARTICULAR</td>\n",
       "      <td>SUPLENTE</td>\n",
       "    </tr>\n",
       "    <tr>\n",
       "      <th>2</th>\n",
       "      <td>1</td>\n",
       "      <td>AC</td>\n",
       "      <td>DEPUTADO ESTADUAL</td>\n",
       "      <td>14222</td>\n",
       "      <td>ANDRÉA PÚPIO</td>\n",
       "      <td>PTB</td>\n",
       "      <td>PARTIDO ISOLADO</td>\n",
       "      <td>PTB</td>\n",
       "      <td>39</td>\n",
       "      <td>FEMININO</td>\n",
       "      <td>ENSINO MÉDIO COMPLETO</td>\n",
       "      <td>SOLTEIRO(A)</td>\n",
       "      <td>BRANCA</td>\n",
       "      <td>AGENTE ADMINISTRATIVO</td>\n",
       "      <td>SUPLENTE</td>\n",
       "    </tr>\n",
       "    <tr>\n",
       "      <th>3</th>\n",
       "      <td>1</td>\n",
       "      <td>AC</td>\n",
       "      <td>DEPUTADO FEDERAL</td>\n",
       "      <td>7777</td>\n",
       "      <td>DRA. VANDA MILANI</td>\n",
       "      <td>SOLIDARIEDADE</td>\n",
       "      <td>Mudança e Competência 1</td>\n",
       "      <td>PP / PSDB / PSD / MDB / DEM / SOLIDARIEDADE / ...</td>\n",
       "      <td>65</td>\n",
       "      <td>FEMININO</td>\n",
       "      <td>SUPERIOR COMPLETO</td>\n",
       "      <td>CASADO(A)</td>\n",
       "      <td>BRANCA</td>\n",
       "      <td>MAGISTRADO</td>\n",
       "      <td>ELEITO POR QP</td>\n",
       "    </tr>\n",
       "    <tr>\n",
       "      <th>4</th>\n",
       "      <td>1</td>\n",
       "      <td>AC</td>\n",
       "      <td>DEPUTADO ESTADUAL</td>\n",
       "      <td>19019</td>\n",
       "      <td>JOSA DA FARMACIA</td>\n",
       "      <td>PODE</td>\n",
       "      <td>FRENTE POPULAR REPUBLICANA SOCIAL</td>\n",
       "      <td>PROS / PODE / PRB</td>\n",
       "      <td>45</td>\n",
       "      <td>MASCULINO</td>\n",
       "      <td>ENSINO MÉDIO COMPLETO</td>\n",
       "      <td>SOLTEIRO(A)</td>\n",
       "      <td>PARDA</td>\n",
       "      <td>DEPUTADO</td>\n",
       "      <td>ELEITO POR QP</td>\n",
       "    </tr>\n",
       "  </tbody>\n",
       "</table>\n",
       "</div>"
      ],
      "text/plain": [
       "   NR_TURNO SG_UF           DS_CARGO  NR_CANDIDATO  NM_URNA_CANDIDATO  \\\n",
       "0         1    AC   DEPUTADO FEDERAL          5555     MARIVALDO MELO   \n",
       "1         1    AC  DEPUTADO ESTADUAL         50000      RONY CARTOLIN   \n",
       "2         1    AC  DEPUTADO ESTADUAL         14222       ANDRÉA PÚPIO   \n",
       "3         1    AC   DEPUTADO FEDERAL          7777  DRA. VANDA MILANI   \n",
       "4         1    AC  DEPUTADO ESTADUAL         19019   JOSA DA FARMACIA   \n",
       "\n",
       "      SG_PARTIDO                        NM_COLIGACAO  \\\n",
       "0            PSD             Mudança e Competência 1   \n",
       "1           PSOL        FRENTE - PSOL, PV, PRP E PPL   \n",
       "2            PTB                     PARTIDO ISOLADO   \n",
       "3  SOLIDARIEDADE             Mudança e Competência 1   \n",
       "4           PODE  FRENTE POPULAR REPUBLICANA SOCIAL    \n",
       "\n",
       "                             DS_COMPOSICAO_COLIGACAO  NR_IDADE_DATA_POSSE  \\\n",
       "0  PP / PSDB / PSD / MDB / DEM / SOLIDARIEDADE / ...                   54   \n",
       "1                              PSOL / PV / PRP / PPL                   30   \n",
       "2                                                PTB                   39   \n",
       "3  PP / PSDB / PSD / MDB / DEM / SOLIDARIEDADE / ...                   65   \n",
       "4                                  PROS / PODE / PRB                   45   \n",
       "\n",
       "   DS_GENERO      DS_GRAU_INSTRUCAO DS_ESTADO_CIVIL DS_COR_RACA  \\\n",
       "0  MASCULINO      SUPERIOR COMPLETO   DIVORCIADO(A)      BRANCA   \n",
       "1  MASCULINO    SUPERIOR INCOMPLETO     SOLTEIRO(A)    INDÍGENA   \n",
       "2   FEMININO  ENSINO MÉDIO COMPLETO     SOLTEIRO(A)      BRANCA   \n",
       "3   FEMININO      SUPERIOR COMPLETO       CASADO(A)      BRANCA   \n",
       "4  MASCULINO  ENSINO MÉDIO COMPLETO     SOLTEIRO(A)       PARDA   \n",
       "\n",
       "             DS_OCUPACAO DS_SIT_TOT_TURNO  \n",
       "0             EMPRESÁRIO         SUPLENTE  \n",
       "1    DETETIVE PARTICULAR         SUPLENTE  \n",
       "2  AGENTE ADMINISTRATIVO         SUPLENTE  \n",
       "3             MAGISTRADO    ELEITO POR QP  \n",
       "4               DEPUTADO    ELEITO POR QP  "
      ]
     },
     "execution_count": 2,
     "metadata": {},
     "output_type": "execute_result"
    }
   ],
   "source": [
    "candidatos = pd.read_excel('./data/interim/candidatos_2018_minimo.xlsx')\n",
    "candidatos.head()"
   ]
  },
  {
   "cell_type": "code",
   "execution_count": 3,
   "metadata": {},
   "outputs": [
    {
     "data": {
      "text/plain": [
       "26016"
      ]
     },
     "execution_count": 3,
     "metadata": {},
     "output_type": "execute_result"
    }
   ],
   "source": [
    "len(candidatos)"
   ]
  },
  {
   "cell_type": "code",
   "execution_count": null,
   "metadata": {},
   "outputs": [],
   "source": []
  },
  {
   "cell_type": "code",
   "execution_count": 4,
   "metadata": {},
   "outputs": [],
   "source": [
    "raca_cor = alt.Scale(\n",
    "    domain=['AMARELA', 'BRANCA', 'INDÍGENA', 'PARDA', 'PRETA'],\n",
    "    range=['#F6DE93', '#FEE5C2', '#BD6231', '#936036', '#2D1D10'],\n",
    ")\n",
    "\n",
    "genero_cor = alt.Scale(\n",
    "    domain=['MASCULINO', 'FEMININO'],\n",
    "    range=['steelblue', 'salmon'],\n",
    ")"
   ]
  },
  {
   "cell_type": "code",
   "execution_count": null,
   "metadata": {},
   "outputs": [],
   "source": []
  },
  {
   "cell_type": "code",
   "execution_count": 5,
   "metadata": {},
   "outputs": [
    {
     "data": {
      "text/html": [
       "<div>\n",
       "<style scoped>\n",
       "    .dataframe tbody tr th:only-of-type {\n",
       "        vertical-align: middle;\n",
       "    }\n",
       "\n",
       "    .dataframe tbody tr th {\n",
       "        vertical-align: top;\n",
       "    }\n",
       "\n",
       "    .dataframe thead th {\n",
       "        text-align: right;\n",
       "    }\n",
       "</style>\n",
       "<table border=\"1\" class=\"dataframe\">\n",
       "  <thead>\n",
       "    <tr style=\"text-align: right;\">\n",
       "      <th></th>\n",
       "      <th>NR_TURNO</th>\n",
       "      <th>SG_UF</th>\n",
       "      <th>DS_COR_RACA</th>\n",
       "      <th>TOTAL</th>\n",
       "    </tr>\n",
       "  </thead>\n",
       "  <tbody>\n",
       "    <tr>\n",
       "      <th>0</th>\n",
       "      <td>1</td>\n",
       "      <td>AC</td>\n",
       "      <td>AMARELA</td>\n",
       "      <td>2</td>\n",
       "    </tr>\n",
       "    <tr>\n",
       "      <th>1</th>\n",
       "      <td>1</td>\n",
       "      <td>AC</td>\n",
       "      <td>BRANCA</td>\n",
       "      <td>124</td>\n",
       "    </tr>\n",
       "    <tr>\n",
       "      <th>2</th>\n",
       "      <td>1</td>\n",
       "      <td>AC</td>\n",
       "      <td>INDÍGENA</td>\n",
       "      <td>5</td>\n",
       "    </tr>\n",
       "    <tr>\n",
       "      <th>3</th>\n",
       "      <td>1</td>\n",
       "      <td>AC</td>\n",
       "      <td>PARDA</td>\n",
       "      <td>386</td>\n",
       "    </tr>\n",
       "    <tr>\n",
       "      <th>4</th>\n",
       "      <td>1</td>\n",
       "      <td>AC</td>\n",
       "      <td>PRETA</td>\n",
       "      <td>31</td>\n",
       "    </tr>\n",
       "  </tbody>\n",
       "</table>\n",
       "</div>"
      ],
      "text/plain": [
       "   NR_TURNO SG_UF DS_COR_RACA  TOTAL\n",
       "0         1    AC     AMARELA      2\n",
       "1         1    AC      BRANCA    124\n",
       "2         1    AC    INDÍGENA      5\n",
       "3         1    AC       PARDA    386\n",
       "4         1    AC       PRETA     31"
      ]
     },
     "execution_count": 5,
     "metadata": {},
     "output_type": "execute_result"
    }
   ],
   "source": [
    "turno_uf_raca_tidy = (\n",
    "    candidatos\n",
    "    .groupby([\n",
    "        'NR_TURNO',\n",
    "        'SG_UF',\n",
    "        'DS_COR_RACA'\n",
    "    ])\n",
    "    .size()\n",
    "    .rename('TOTAL')\n",
    "    .reset_index()\n",
    ")\n",
    "\n",
    "turno_uf_raca_tidy.head()"
   ]
  },
  {
   "cell_type": "code",
   "execution_count": null,
   "metadata": {},
   "outputs": [],
   "source": []
  },
  {
   "cell_type": "code",
   "execution_count": 6,
   "metadata": {},
   "outputs": [
    {
     "data": {
      "text/html": [
       "<div>\n",
       "<style scoped>\n",
       "    .dataframe tbody tr th:only-of-type {\n",
       "        vertical-align: middle;\n",
       "    }\n",
       "\n",
       "    .dataframe tbody tr th {\n",
       "        vertical-align: top;\n",
       "    }\n",
       "\n",
       "    .dataframe thead tr th {\n",
       "        text-align: left;\n",
       "    }\n",
       "\n",
       "    .dataframe thead tr:last-of-type th {\n",
       "        text-align: right;\n",
       "    }\n",
       "</style>\n",
       "<table border=\"1\" class=\"dataframe\">\n",
       "  <thead>\n",
       "    <tr>\n",
       "      <th></th>\n",
       "      <th colspan=\"8\" halign=\"left\">TOTAL</th>\n",
       "    </tr>\n",
       "    <tr>\n",
       "      <th>NR_TURNO</th>\n",
       "      <th colspan=\"5\" halign=\"left\">1</th>\n",
       "      <th colspan=\"3\" halign=\"left\">2</th>\n",
       "    </tr>\n",
       "    <tr>\n",
       "      <th>DS_COR_RACA</th>\n",
       "      <th>AMARELA</th>\n",
       "      <th>BRANCA</th>\n",
       "      <th>INDÍGENA</th>\n",
       "      <th>PARDA</th>\n",
       "      <th>PRETA</th>\n",
       "      <th>BRANCA</th>\n",
       "      <th>PARDA</th>\n",
       "      <th>INDÍGENA</th>\n",
       "    </tr>\n",
       "    <tr>\n",
       "      <th>SG_UF</th>\n",
       "      <th></th>\n",
       "      <th></th>\n",
       "      <th></th>\n",
       "      <th></th>\n",
       "      <th></th>\n",
       "      <th></th>\n",
       "      <th></th>\n",
       "      <th></th>\n",
       "    </tr>\n",
       "  </thead>\n",
       "  <tbody>\n",
       "    <tr>\n",
       "      <th>AC</th>\n",
       "      <td>2</td>\n",
       "      <td>124</td>\n",
       "      <td>5</td>\n",
       "      <td>386</td>\n",
       "      <td>31</td>\n",
       "      <td>0</td>\n",
       "      <td>0</td>\n",
       "      <td>0</td>\n",
       "    </tr>\n",
       "    <tr>\n",
       "      <th>AL</th>\n",
       "      <td>0</td>\n",
       "      <td>157</td>\n",
       "      <td>3</td>\n",
       "      <td>186</td>\n",
       "      <td>35</td>\n",
       "      <td>0</td>\n",
       "      <td>0</td>\n",
       "      <td>0</td>\n",
       "    </tr>\n",
       "    <tr>\n",
       "      <th>AM</th>\n",
       "      <td>4</td>\n",
       "      <td>216</td>\n",
       "      <td>12</td>\n",
       "      <td>449</td>\n",
       "      <td>59</td>\n",
       "      <td>1</td>\n",
       "      <td>3</td>\n",
       "      <td>0</td>\n",
       "    </tr>\n",
       "    <tr>\n",
       "      <th>AP</th>\n",
       "      <td>2</td>\n",
       "      <td>150</td>\n",
       "      <td>2</td>\n",
       "      <td>315</td>\n",
       "      <td>83</td>\n",
       "      <td>2</td>\n",
       "      <td>2</td>\n",
       "      <td>0</td>\n",
       "    </tr>\n",
       "    <tr>\n",
       "      <th>BA</th>\n",
       "      <td>4</td>\n",
       "      <td>285</td>\n",
       "      <td>5</td>\n",
       "      <td>540</td>\n",
       "      <td>241</td>\n",
       "      <td>0</td>\n",
       "      <td>0</td>\n",
       "      <td>0</td>\n",
       "    </tr>\n",
       "    <tr>\n",
       "      <th>BR</th>\n",
       "      <td>0</td>\n",
       "      <td>19</td>\n",
       "      <td>2</td>\n",
       "      <td>2</td>\n",
       "      <td>3</td>\n",
       "      <td>3</td>\n",
       "      <td>0</td>\n",
       "      <td>1</td>\n",
       "    </tr>\n",
       "    <tr>\n",
       "      <th>CE</th>\n",
       "      <td>4</td>\n",
       "      <td>335</td>\n",
       "      <td>10</td>\n",
       "      <td>377</td>\n",
       "      <td>55</td>\n",
       "      <td>0</td>\n",
       "      <td>0</td>\n",
       "      <td>0</td>\n",
       "    </tr>\n",
       "    <tr>\n",
       "      <th>DF</th>\n",
       "      <td>6</td>\n",
       "      <td>490</td>\n",
       "      <td>4</td>\n",
       "      <td>497</td>\n",
       "      <td>118</td>\n",
       "      <td>4</td>\n",
       "      <td>0</td>\n",
       "      <td>0</td>\n",
       "    </tr>\n",
       "    <tr>\n",
       "      <th>ES</th>\n",
       "      <td>0</td>\n",
       "      <td>383</td>\n",
       "      <td>3</td>\n",
       "      <td>311</td>\n",
       "      <td>87</td>\n",
       "      <td>0</td>\n",
       "      <td>0</td>\n",
       "      <td>0</td>\n",
       "    </tr>\n",
       "    <tr>\n",
       "      <th>GO</th>\n",
       "      <td>4</td>\n",
       "      <td>543</td>\n",
       "      <td>0</td>\n",
       "      <td>399</td>\n",
       "      <td>93</td>\n",
       "      <td>0</td>\n",
       "      <td>0</td>\n",
       "      <td>0</td>\n",
       "    </tr>\n",
       "    <tr>\n",
       "      <th>MA</th>\n",
       "      <td>0</td>\n",
       "      <td>266</td>\n",
       "      <td>3</td>\n",
       "      <td>336</td>\n",
       "      <td>87</td>\n",
       "      <td>0</td>\n",
       "      <td>0</td>\n",
       "      <td>0</td>\n",
       "    </tr>\n",
       "    <tr>\n",
       "      <th>MG</th>\n",
       "      <td>56</td>\n",
       "      <td>1131</td>\n",
       "      <td>2</td>\n",
       "      <td>705</td>\n",
       "      <td>241</td>\n",
       "      <td>4</td>\n",
       "      <td>0</td>\n",
       "      <td>0</td>\n",
       "    </tr>\n",
       "    <tr>\n",
       "      <th>MS</th>\n",
       "      <td>0</td>\n",
       "      <td>309</td>\n",
       "      <td>7</td>\n",
       "      <td>145</td>\n",
       "      <td>27</td>\n",
       "      <td>3</td>\n",
       "      <td>1</td>\n",
       "      <td>0</td>\n",
       "    </tr>\n",
       "    <tr>\n",
       "      <th>MT</th>\n",
       "      <td>6</td>\n",
       "      <td>226</td>\n",
       "      <td>2</td>\n",
       "      <td>200</td>\n",
       "      <td>49</td>\n",
       "      <td>0</td>\n",
       "      <td>0</td>\n",
       "      <td>0</td>\n",
       "    </tr>\n",
       "    <tr>\n",
       "      <th>PA</th>\n",
       "      <td>2</td>\n",
       "      <td>230</td>\n",
       "      <td>6</td>\n",
       "      <td>497</td>\n",
       "      <td>75</td>\n",
       "      <td>2</td>\n",
       "      <td>2</td>\n",
       "      <td>0</td>\n",
       "    </tr>\n",
       "    <tr>\n",
       "      <th>PB</th>\n",
       "      <td>3</td>\n",
       "      <td>282</td>\n",
       "      <td>1</td>\n",
       "      <td>206</td>\n",
       "      <td>44</td>\n",
       "      <td>0</td>\n",
       "      <td>0</td>\n",
       "      <td>0</td>\n",
       "    </tr>\n",
       "    <tr>\n",
       "      <th>PE</th>\n",
       "      <td>2</td>\n",
       "      <td>500</td>\n",
       "      <td>4</td>\n",
       "      <td>360</td>\n",
       "      <td>125</td>\n",
       "      <td>0</td>\n",
       "      <td>0</td>\n",
       "      <td>0</td>\n",
       "    </tr>\n",
       "    <tr>\n",
       "      <th>PI</th>\n",
       "      <td>1</td>\n",
       "      <td>163</td>\n",
       "      <td>1</td>\n",
       "      <td>192</td>\n",
       "      <td>42</td>\n",
       "      <td>0</td>\n",
       "      <td>0</td>\n",
       "      <td>0</td>\n",
       "    </tr>\n",
       "    <tr>\n",
       "      <th>PR</th>\n",
       "      <td>5</td>\n",
       "      <td>1009</td>\n",
       "      <td>1</td>\n",
       "      <td>103</td>\n",
       "      <td>60</td>\n",
       "      <td>0</td>\n",
       "      <td>0</td>\n",
       "      <td>0</td>\n",
       "    </tr>\n",
       "    <tr>\n",
       "      <th>RJ</th>\n",
       "      <td>2</td>\n",
       "      <td>1740</td>\n",
       "      <td>6</td>\n",
       "      <td>1066</td>\n",
       "      <td>534</td>\n",
       "      <td>4</td>\n",
       "      <td>0</td>\n",
       "      <td>0</td>\n",
       "    </tr>\n",
       "    <tr>\n",
       "      <th>RN</th>\n",
       "      <td>0</td>\n",
       "      <td>269</td>\n",
       "      <td>1</td>\n",
       "      <td>159</td>\n",
       "      <td>44</td>\n",
       "      <td>2</td>\n",
       "      <td>2</td>\n",
       "      <td>0</td>\n",
       "    </tr>\n",
       "    <tr>\n",
       "      <th>RO</th>\n",
       "      <td>1</td>\n",
       "      <td>201</td>\n",
       "      <td>2</td>\n",
       "      <td>259</td>\n",
       "      <td>44</td>\n",
       "      <td>3</td>\n",
       "      <td>1</td>\n",
       "      <td>0</td>\n",
       "    </tr>\n",
       "    <tr>\n",
       "      <th>RR</th>\n",
       "      <td>0</td>\n",
       "      <td>168</td>\n",
       "      <td>20</td>\n",
       "      <td>405</td>\n",
       "      <td>26</td>\n",
       "      <td>3</td>\n",
       "      <td>1</td>\n",
       "      <td>0</td>\n",
       "    </tr>\n",
       "    <tr>\n",
       "      <th>RS</th>\n",
       "      <td>3</td>\n",
       "      <td>1091</td>\n",
       "      <td>3</td>\n",
       "      <td>48</td>\n",
       "      <td>111</td>\n",
       "      <td>4</td>\n",
       "      <td>0</td>\n",
       "      <td>0</td>\n",
       "    </tr>\n",
       "    <tr>\n",
       "      <th>SC</th>\n",
       "      <td>1</td>\n",
       "      <td>633</td>\n",
       "      <td>4</td>\n",
       "      <td>51</td>\n",
       "      <td>32</td>\n",
       "      <td>4</td>\n",
       "      <td>0</td>\n",
       "      <td>0</td>\n",
       "    </tr>\n",
       "    <tr>\n",
       "      <th>SE</th>\n",
       "      <td>3</td>\n",
       "      <td>157</td>\n",
       "      <td>2</td>\n",
       "      <td>231</td>\n",
       "      <td>55</td>\n",
       "      <td>2</td>\n",
       "      <td>2</td>\n",
       "      <td>0</td>\n",
       "    </tr>\n",
       "    <tr>\n",
       "      <th>SP</th>\n",
       "      <td>38</td>\n",
       "      <td>2528</td>\n",
       "      <td>8</td>\n",
       "      <td>553</td>\n",
       "      <td>380</td>\n",
       "      <td>4</td>\n",
       "      <td>0</td>\n",
       "      <td>0</td>\n",
       "    </tr>\n",
       "    <tr>\n",
       "      <th>TO</th>\n",
       "      <td>1</td>\n",
       "      <td>150</td>\n",
       "      <td>1</td>\n",
       "      <td>141</td>\n",
       "      <td>31</td>\n",
       "      <td>0</td>\n",
       "      <td>0</td>\n",
       "      <td>0</td>\n",
       "    </tr>\n",
       "  </tbody>\n",
       "</table>\n",
       "</div>"
      ],
      "text/plain": [
       "              TOTAL                                                  \n",
       "NR_TURNO          1                                  2               \n",
       "DS_COR_RACA AMARELA BRANCA INDÍGENA PARDA PRETA BRANCA PARDA INDÍGENA\n",
       "SG_UF                                                                \n",
       "AC                2    124        5   386    31      0     0        0\n",
       "AL                0    157        3   186    35      0     0        0\n",
       "AM                4    216       12   449    59      1     3        0\n",
       "AP                2    150        2   315    83      2     2        0\n",
       "BA                4    285        5   540   241      0     0        0\n",
       "BR                0     19        2     2     3      3     0        1\n",
       "CE                4    335       10   377    55      0     0        0\n",
       "DF                6    490        4   497   118      4     0        0\n",
       "ES                0    383        3   311    87      0     0        0\n",
       "GO                4    543        0   399    93      0     0        0\n",
       "MA                0    266        3   336    87      0     0        0\n",
       "MG               56   1131        2   705   241      4     0        0\n",
       "MS                0    309        7   145    27      3     1        0\n",
       "MT                6    226        2   200    49      0     0        0\n",
       "PA                2    230        6   497    75      2     2        0\n",
       "PB                3    282        1   206    44      0     0        0\n",
       "PE                2    500        4   360   125      0     0        0\n",
       "PI                1    163        1   192    42      0     0        0\n",
       "PR                5   1009        1   103    60      0     0        0\n",
       "RJ                2   1740        6  1066   534      4     0        0\n",
       "RN                0    269        1   159    44      2     2        0\n",
       "RO                1    201        2   259    44      3     1        0\n",
       "RR                0    168       20   405    26      3     1        0\n",
       "RS                3   1091        3    48   111      4     0        0\n",
       "SC                1    633        4    51    32      4     0        0\n",
       "SE                3    157        2   231    55      2     2        0\n",
       "SP               38   2528        8   553   380      4     0        0\n",
       "TO                1    150        1   141    31      0     0        0"
      ]
     },
     "execution_count": 6,
     "metadata": {},
     "output_type": "execute_result"
    }
   ],
   "source": [
    "(\n",
    "    turno_uf_raca_tidy\n",
    "    .set_index([\n",
    "        'NR_TURNO',\n",
    "        'SG_UF',\n",
    "        'DS_COR_RACA'\n",
    "    ])\n",
    "    .unstack(['NR_TURNO', 'DS_COR_RACA'])\n",
    "    .fillna(0)\n",
    "    .applymap(int)\n",
    ")"
   ]
  },
  {
   "cell_type": "code",
   "execution_count": null,
   "metadata": {},
   "outputs": [],
   "source": []
  },
  {
   "cell_type": "code",
   "execution_count": 7,
   "metadata": {},
   "outputs": [
    {
     "data": {
      "application/vnd.vegalite.v2+json": {
       "$schema": "https://vega.github.io/schema/vega-lite/v2.6.0.json",
       "config": {
        "view": {
         "height": 300,
         "width": 400
        }
       },
       "data": {
        "name": "data-d8b3bd3fab8a0547188bcfc082cb6a6c"
       },
       "datasets": {
        "data-d8b3bd3fab8a0547188bcfc082cb6a6c": [
         {
          "DS_COR_RACA": "AMARELA",
          "NR_TURNO": 1,
          "SG_UF": "AC",
          "TOTAL": 2
         },
         {
          "DS_COR_RACA": "BRANCA",
          "NR_TURNO": 1,
          "SG_UF": "AC",
          "TOTAL": 124
         },
         {
          "DS_COR_RACA": "INDÍGENA",
          "NR_TURNO": 1,
          "SG_UF": "AC",
          "TOTAL": 5
         },
         {
          "DS_COR_RACA": "PARDA",
          "NR_TURNO": 1,
          "SG_UF": "AC",
          "TOTAL": 386
         },
         {
          "DS_COR_RACA": "PRETA",
          "NR_TURNO": 1,
          "SG_UF": "AC",
          "TOTAL": 31
         },
         {
          "DS_COR_RACA": "BRANCA",
          "NR_TURNO": 1,
          "SG_UF": "AL",
          "TOTAL": 157
         },
         {
          "DS_COR_RACA": "INDÍGENA",
          "NR_TURNO": 1,
          "SG_UF": "AL",
          "TOTAL": 3
         },
         {
          "DS_COR_RACA": "PARDA",
          "NR_TURNO": 1,
          "SG_UF": "AL",
          "TOTAL": 186
         },
         {
          "DS_COR_RACA": "PRETA",
          "NR_TURNO": 1,
          "SG_UF": "AL",
          "TOTAL": 35
         },
         {
          "DS_COR_RACA": "AMARELA",
          "NR_TURNO": 1,
          "SG_UF": "AM",
          "TOTAL": 4
         },
         {
          "DS_COR_RACA": "BRANCA",
          "NR_TURNO": 1,
          "SG_UF": "AM",
          "TOTAL": 216
         },
         {
          "DS_COR_RACA": "INDÍGENA",
          "NR_TURNO": 1,
          "SG_UF": "AM",
          "TOTAL": 12
         },
         {
          "DS_COR_RACA": "PARDA",
          "NR_TURNO": 1,
          "SG_UF": "AM",
          "TOTAL": 449
         },
         {
          "DS_COR_RACA": "PRETA",
          "NR_TURNO": 1,
          "SG_UF": "AM",
          "TOTAL": 59
         },
         {
          "DS_COR_RACA": "AMARELA",
          "NR_TURNO": 1,
          "SG_UF": "AP",
          "TOTAL": 2
         },
         {
          "DS_COR_RACA": "BRANCA",
          "NR_TURNO": 1,
          "SG_UF": "AP",
          "TOTAL": 150
         },
         {
          "DS_COR_RACA": "INDÍGENA",
          "NR_TURNO": 1,
          "SG_UF": "AP",
          "TOTAL": 2
         },
         {
          "DS_COR_RACA": "PARDA",
          "NR_TURNO": 1,
          "SG_UF": "AP",
          "TOTAL": 315
         },
         {
          "DS_COR_RACA": "PRETA",
          "NR_TURNO": 1,
          "SG_UF": "AP",
          "TOTAL": 83
         },
         {
          "DS_COR_RACA": "AMARELA",
          "NR_TURNO": 1,
          "SG_UF": "BA",
          "TOTAL": 4
         },
         {
          "DS_COR_RACA": "BRANCA",
          "NR_TURNO": 1,
          "SG_UF": "BA",
          "TOTAL": 285
         },
         {
          "DS_COR_RACA": "INDÍGENA",
          "NR_TURNO": 1,
          "SG_UF": "BA",
          "TOTAL": 5
         },
         {
          "DS_COR_RACA": "PARDA",
          "NR_TURNO": 1,
          "SG_UF": "BA",
          "TOTAL": 540
         },
         {
          "DS_COR_RACA": "PRETA",
          "NR_TURNO": 1,
          "SG_UF": "BA",
          "TOTAL": 241
         },
         {
          "DS_COR_RACA": "BRANCA",
          "NR_TURNO": 1,
          "SG_UF": "BR",
          "TOTAL": 19
         },
         {
          "DS_COR_RACA": "INDÍGENA",
          "NR_TURNO": 1,
          "SG_UF": "BR",
          "TOTAL": 2
         },
         {
          "DS_COR_RACA": "PARDA",
          "NR_TURNO": 1,
          "SG_UF": "BR",
          "TOTAL": 2
         },
         {
          "DS_COR_RACA": "PRETA",
          "NR_TURNO": 1,
          "SG_UF": "BR",
          "TOTAL": 3
         },
         {
          "DS_COR_RACA": "AMARELA",
          "NR_TURNO": 1,
          "SG_UF": "CE",
          "TOTAL": 4
         },
         {
          "DS_COR_RACA": "BRANCA",
          "NR_TURNO": 1,
          "SG_UF": "CE",
          "TOTAL": 335
         },
         {
          "DS_COR_RACA": "INDÍGENA",
          "NR_TURNO": 1,
          "SG_UF": "CE",
          "TOTAL": 10
         },
         {
          "DS_COR_RACA": "PARDA",
          "NR_TURNO": 1,
          "SG_UF": "CE",
          "TOTAL": 377
         },
         {
          "DS_COR_RACA": "PRETA",
          "NR_TURNO": 1,
          "SG_UF": "CE",
          "TOTAL": 55
         },
         {
          "DS_COR_RACA": "AMARELA",
          "NR_TURNO": 1,
          "SG_UF": "DF",
          "TOTAL": 6
         },
         {
          "DS_COR_RACA": "BRANCA",
          "NR_TURNO": 1,
          "SG_UF": "DF",
          "TOTAL": 490
         },
         {
          "DS_COR_RACA": "INDÍGENA",
          "NR_TURNO": 1,
          "SG_UF": "DF",
          "TOTAL": 4
         },
         {
          "DS_COR_RACA": "PARDA",
          "NR_TURNO": 1,
          "SG_UF": "DF",
          "TOTAL": 497
         },
         {
          "DS_COR_RACA": "PRETA",
          "NR_TURNO": 1,
          "SG_UF": "DF",
          "TOTAL": 118
         },
         {
          "DS_COR_RACA": "BRANCA",
          "NR_TURNO": 1,
          "SG_UF": "ES",
          "TOTAL": 383
         },
         {
          "DS_COR_RACA": "INDÍGENA",
          "NR_TURNO": 1,
          "SG_UF": "ES",
          "TOTAL": 3
         },
         {
          "DS_COR_RACA": "PARDA",
          "NR_TURNO": 1,
          "SG_UF": "ES",
          "TOTAL": 311
         },
         {
          "DS_COR_RACA": "PRETA",
          "NR_TURNO": 1,
          "SG_UF": "ES",
          "TOTAL": 87
         },
         {
          "DS_COR_RACA": "AMARELA",
          "NR_TURNO": 1,
          "SG_UF": "GO",
          "TOTAL": 4
         },
         {
          "DS_COR_RACA": "BRANCA",
          "NR_TURNO": 1,
          "SG_UF": "GO",
          "TOTAL": 543
         },
         {
          "DS_COR_RACA": "PARDA",
          "NR_TURNO": 1,
          "SG_UF": "GO",
          "TOTAL": 399
         },
         {
          "DS_COR_RACA": "PRETA",
          "NR_TURNO": 1,
          "SG_UF": "GO",
          "TOTAL": 93
         },
         {
          "DS_COR_RACA": "BRANCA",
          "NR_TURNO": 1,
          "SG_UF": "MA",
          "TOTAL": 266
         },
         {
          "DS_COR_RACA": "INDÍGENA",
          "NR_TURNO": 1,
          "SG_UF": "MA",
          "TOTAL": 3
         },
         {
          "DS_COR_RACA": "PARDA",
          "NR_TURNO": 1,
          "SG_UF": "MA",
          "TOTAL": 336
         },
         {
          "DS_COR_RACA": "PRETA",
          "NR_TURNO": 1,
          "SG_UF": "MA",
          "TOTAL": 87
         },
         {
          "DS_COR_RACA": "AMARELA",
          "NR_TURNO": 1,
          "SG_UF": "MG",
          "TOTAL": 56
         },
         {
          "DS_COR_RACA": "BRANCA",
          "NR_TURNO": 1,
          "SG_UF": "MG",
          "TOTAL": 1131
         },
         {
          "DS_COR_RACA": "INDÍGENA",
          "NR_TURNO": 1,
          "SG_UF": "MG",
          "TOTAL": 2
         },
         {
          "DS_COR_RACA": "PARDA",
          "NR_TURNO": 1,
          "SG_UF": "MG",
          "TOTAL": 705
         },
         {
          "DS_COR_RACA": "PRETA",
          "NR_TURNO": 1,
          "SG_UF": "MG",
          "TOTAL": 241
         },
         {
          "DS_COR_RACA": "BRANCA",
          "NR_TURNO": 1,
          "SG_UF": "MS",
          "TOTAL": 309
         },
         {
          "DS_COR_RACA": "INDÍGENA",
          "NR_TURNO": 1,
          "SG_UF": "MS",
          "TOTAL": 7
         },
         {
          "DS_COR_RACA": "PARDA",
          "NR_TURNO": 1,
          "SG_UF": "MS",
          "TOTAL": 145
         },
         {
          "DS_COR_RACA": "PRETA",
          "NR_TURNO": 1,
          "SG_UF": "MS",
          "TOTAL": 27
         },
         {
          "DS_COR_RACA": "AMARELA",
          "NR_TURNO": 1,
          "SG_UF": "MT",
          "TOTAL": 6
         },
         {
          "DS_COR_RACA": "BRANCA",
          "NR_TURNO": 1,
          "SG_UF": "MT",
          "TOTAL": 226
         },
         {
          "DS_COR_RACA": "INDÍGENA",
          "NR_TURNO": 1,
          "SG_UF": "MT",
          "TOTAL": 2
         },
         {
          "DS_COR_RACA": "PARDA",
          "NR_TURNO": 1,
          "SG_UF": "MT",
          "TOTAL": 200
         },
         {
          "DS_COR_RACA": "PRETA",
          "NR_TURNO": 1,
          "SG_UF": "MT",
          "TOTAL": 49
         },
         {
          "DS_COR_RACA": "AMARELA",
          "NR_TURNO": 1,
          "SG_UF": "PA",
          "TOTAL": 2
         },
         {
          "DS_COR_RACA": "BRANCA",
          "NR_TURNO": 1,
          "SG_UF": "PA",
          "TOTAL": 230
         },
         {
          "DS_COR_RACA": "INDÍGENA",
          "NR_TURNO": 1,
          "SG_UF": "PA",
          "TOTAL": 6
         },
         {
          "DS_COR_RACA": "PARDA",
          "NR_TURNO": 1,
          "SG_UF": "PA",
          "TOTAL": 497
         },
         {
          "DS_COR_RACA": "PRETA",
          "NR_TURNO": 1,
          "SG_UF": "PA",
          "TOTAL": 75
         },
         {
          "DS_COR_RACA": "AMARELA",
          "NR_TURNO": 1,
          "SG_UF": "PB",
          "TOTAL": 3
         },
         {
          "DS_COR_RACA": "BRANCA",
          "NR_TURNO": 1,
          "SG_UF": "PB",
          "TOTAL": 282
         },
         {
          "DS_COR_RACA": "INDÍGENA",
          "NR_TURNO": 1,
          "SG_UF": "PB",
          "TOTAL": 1
         },
         {
          "DS_COR_RACA": "PARDA",
          "NR_TURNO": 1,
          "SG_UF": "PB",
          "TOTAL": 206
         },
         {
          "DS_COR_RACA": "PRETA",
          "NR_TURNO": 1,
          "SG_UF": "PB",
          "TOTAL": 44
         },
         {
          "DS_COR_RACA": "AMARELA",
          "NR_TURNO": 1,
          "SG_UF": "PE",
          "TOTAL": 2
         },
         {
          "DS_COR_RACA": "BRANCA",
          "NR_TURNO": 1,
          "SG_UF": "PE",
          "TOTAL": 500
         },
         {
          "DS_COR_RACA": "INDÍGENA",
          "NR_TURNO": 1,
          "SG_UF": "PE",
          "TOTAL": 4
         },
         {
          "DS_COR_RACA": "PARDA",
          "NR_TURNO": 1,
          "SG_UF": "PE",
          "TOTAL": 360
         },
         {
          "DS_COR_RACA": "PRETA",
          "NR_TURNO": 1,
          "SG_UF": "PE",
          "TOTAL": 125
         },
         {
          "DS_COR_RACA": "AMARELA",
          "NR_TURNO": 1,
          "SG_UF": "PI",
          "TOTAL": 1
         },
         {
          "DS_COR_RACA": "BRANCA",
          "NR_TURNO": 1,
          "SG_UF": "PI",
          "TOTAL": 163
         },
         {
          "DS_COR_RACA": "INDÍGENA",
          "NR_TURNO": 1,
          "SG_UF": "PI",
          "TOTAL": 1
         },
         {
          "DS_COR_RACA": "PARDA",
          "NR_TURNO": 1,
          "SG_UF": "PI",
          "TOTAL": 192
         },
         {
          "DS_COR_RACA": "PRETA",
          "NR_TURNO": 1,
          "SG_UF": "PI",
          "TOTAL": 42
         },
         {
          "DS_COR_RACA": "AMARELA",
          "NR_TURNO": 1,
          "SG_UF": "PR",
          "TOTAL": 5
         },
         {
          "DS_COR_RACA": "BRANCA",
          "NR_TURNO": 1,
          "SG_UF": "PR",
          "TOTAL": 1009
         },
         {
          "DS_COR_RACA": "INDÍGENA",
          "NR_TURNO": 1,
          "SG_UF": "PR",
          "TOTAL": 1
         },
         {
          "DS_COR_RACA": "PARDA",
          "NR_TURNO": 1,
          "SG_UF": "PR",
          "TOTAL": 103
         },
         {
          "DS_COR_RACA": "PRETA",
          "NR_TURNO": 1,
          "SG_UF": "PR",
          "TOTAL": 60
         },
         {
          "DS_COR_RACA": "AMARELA",
          "NR_TURNO": 1,
          "SG_UF": "RJ",
          "TOTAL": 2
         },
         {
          "DS_COR_RACA": "BRANCA",
          "NR_TURNO": 1,
          "SG_UF": "RJ",
          "TOTAL": 1740
         },
         {
          "DS_COR_RACA": "INDÍGENA",
          "NR_TURNO": 1,
          "SG_UF": "RJ",
          "TOTAL": 6
         },
         {
          "DS_COR_RACA": "PARDA",
          "NR_TURNO": 1,
          "SG_UF": "RJ",
          "TOTAL": 1066
         },
         {
          "DS_COR_RACA": "PRETA",
          "NR_TURNO": 1,
          "SG_UF": "RJ",
          "TOTAL": 534
         },
         {
          "DS_COR_RACA": "BRANCA",
          "NR_TURNO": 1,
          "SG_UF": "RN",
          "TOTAL": 269
         },
         {
          "DS_COR_RACA": "INDÍGENA",
          "NR_TURNO": 1,
          "SG_UF": "RN",
          "TOTAL": 1
         },
         {
          "DS_COR_RACA": "PARDA",
          "NR_TURNO": 1,
          "SG_UF": "RN",
          "TOTAL": 159
         },
         {
          "DS_COR_RACA": "PRETA",
          "NR_TURNO": 1,
          "SG_UF": "RN",
          "TOTAL": 44
         },
         {
          "DS_COR_RACA": "AMARELA",
          "NR_TURNO": 1,
          "SG_UF": "RO",
          "TOTAL": 1
         },
         {
          "DS_COR_RACA": "BRANCA",
          "NR_TURNO": 1,
          "SG_UF": "RO",
          "TOTAL": 201
         },
         {
          "DS_COR_RACA": "INDÍGENA",
          "NR_TURNO": 1,
          "SG_UF": "RO",
          "TOTAL": 2
         },
         {
          "DS_COR_RACA": "PARDA",
          "NR_TURNO": 1,
          "SG_UF": "RO",
          "TOTAL": 259
         },
         {
          "DS_COR_RACA": "PRETA",
          "NR_TURNO": 1,
          "SG_UF": "RO",
          "TOTAL": 44
         },
         {
          "DS_COR_RACA": "BRANCA",
          "NR_TURNO": 1,
          "SG_UF": "RR",
          "TOTAL": 168
         },
         {
          "DS_COR_RACA": "INDÍGENA",
          "NR_TURNO": 1,
          "SG_UF": "RR",
          "TOTAL": 20
         },
         {
          "DS_COR_RACA": "PARDA",
          "NR_TURNO": 1,
          "SG_UF": "RR",
          "TOTAL": 405
         },
         {
          "DS_COR_RACA": "PRETA",
          "NR_TURNO": 1,
          "SG_UF": "RR",
          "TOTAL": 26
         },
         {
          "DS_COR_RACA": "AMARELA",
          "NR_TURNO": 1,
          "SG_UF": "RS",
          "TOTAL": 3
         },
         {
          "DS_COR_RACA": "BRANCA",
          "NR_TURNO": 1,
          "SG_UF": "RS",
          "TOTAL": 1091
         },
         {
          "DS_COR_RACA": "INDÍGENA",
          "NR_TURNO": 1,
          "SG_UF": "RS",
          "TOTAL": 3
         },
         {
          "DS_COR_RACA": "PARDA",
          "NR_TURNO": 1,
          "SG_UF": "RS",
          "TOTAL": 48
         },
         {
          "DS_COR_RACA": "PRETA",
          "NR_TURNO": 1,
          "SG_UF": "RS",
          "TOTAL": 111
         },
         {
          "DS_COR_RACA": "AMARELA",
          "NR_TURNO": 1,
          "SG_UF": "SC",
          "TOTAL": 1
         },
         {
          "DS_COR_RACA": "BRANCA",
          "NR_TURNO": 1,
          "SG_UF": "SC",
          "TOTAL": 633
         },
         {
          "DS_COR_RACA": "INDÍGENA",
          "NR_TURNO": 1,
          "SG_UF": "SC",
          "TOTAL": 4
         },
         {
          "DS_COR_RACA": "PARDA",
          "NR_TURNO": 1,
          "SG_UF": "SC",
          "TOTAL": 51
         },
         {
          "DS_COR_RACA": "PRETA",
          "NR_TURNO": 1,
          "SG_UF": "SC",
          "TOTAL": 32
         },
         {
          "DS_COR_RACA": "AMARELA",
          "NR_TURNO": 1,
          "SG_UF": "SE",
          "TOTAL": 3
         },
         {
          "DS_COR_RACA": "BRANCA",
          "NR_TURNO": 1,
          "SG_UF": "SE",
          "TOTAL": 157
         },
         {
          "DS_COR_RACA": "INDÍGENA",
          "NR_TURNO": 1,
          "SG_UF": "SE",
          "TOTAL": 2
         },
         {
          "DS_COR_RACA": "PARDA",
          "NR_TURNO": 1,
          "SG_UF": "SE",
          "TOTAL": 231
         },
         {
          "DS_COR_RACA": "PRETA",
          "NR_TURNO": 1,
          "SG_UF": "SE",
          "TOTAL": 55
         },
         {
          "DS_COR_RACA": "AMARELA",
          "NR_TURNO": 1,
          "SG_UF": "SP",
          "TOTAL": 38
         },
         {
          "DS_COR_RACA": "BRANCA",
          "NR_TURNO": 1,
          "SG_UF": "SP",
          "TOTAL": 2528
         },
         {
          "DS_COR_RACA": "INDÍGENA",
          "NR_TURNO": 1,
          "SG_UF": "SP",
          "TOTAL": 8
         },
         {
          "DS_COR_RACA": "PARDA",
          "NR_TURNO": 1,
          "SG_UF": "SP",
          "TOTAL": 553
         },
         {
          "DS_COR_RACA": "PRETA",
          "NR_TURNO": 1,
          "SG_UF": "SP",
          "TOTAL": 380
         },
         {
          "DS_COR_RACA": "AMARELA",
          "NR_TURNO": 1,
          "SG_UF": "TO",
          "TOTAL": 1
         },
         {
          "DS_COR_RACA": "BRANCA",
          "NR_TURNO": 1,
          "SG_UF": "TO",
          "TOTAL": 150
         },
         {
          "DS_COR_RACA": "INDÍGENA",
          "NR_TURNO": 1,
          "SG_UF": "TO",
          "TOTAL": 1
         },
         {
          "DS_COR_RACA": "PARDA",
          "NR_TURNO": 1,
          "SG_UF": "TO",
          "TOTAL": 141
         },
         {
          "DS_COR_RACA": "PRETA",
          "NR_TURNO": 1,
          "SG_UF": "TO",
          "TOTAL": 31
         }
        ]
       },
       "encoding": {
        "color": {
         "field": "DS_COR_RACA",
         "legend": {
          "title": "Cor"
         },
         "scale": {
          "domain": [
           "AMARELA",
           "BRANCA",
           "INDÍGENA",
           "PARDA",
           "PRETA"
          ],
          "range": [
           "#F6DE93",
           "#FEE5C2",
           "#BD6231",
           "#936036",
           "#2D1D10"
          ]
         },
         "type": "nominal"
        },
        "x": {
         "field": "TOTAL",
         "title": "Total de Candidatos",
         "type": "quantitative"
        },
        "y": {
         "field": "SG_UF",
         "title": null,
         "type": "nominal"
        }
       },
       "mark": "bar",
       "title": "Candidatos do primeiro turno"
      },
      "image/png": "[encoded data removed]",
      "text/plain": [
       "<VegaLite 2 object>\n",
       "\n",
       "If you see this message, it means the renderer has not been properly enabled\n",
       "for the frontend that you are using. For more information, see\n",
       "https://altair-viz.github.io/user_guide/troubleshooting.html\n"
      ]
     },
     "execution_count": 7,
     "metadata": {},
     "output_type": "execute_result"
    }
   ],
   "source": [
    "alt.Chart(turno_uf_raca_tidy[lambda df: df.NR_TURNO == 1]).mark_bar().encode(\n",
    "    x=alt.X('TOTAL', title='Total de Candidatos'),\n",
    "    y=alt.Y('SG_UF', title=None),\n",
    "    color=alt.Color(\n",
    "        'DS_COR_RACA:N',\n",
    "        scale=raca_cor,\n",
    "        legend=alt.Legend(title='Cor'),\n",
    "    )\n",
    ").properties(title='Candidatos do primeiro turno')"
   ]
  },
  {
   "cell_type": "code",
   "execution_count": null,
   "metadata": {},
   "outputs": [],
   "source": []
  },
  {
   "cell_type": "code",
   "execution_count": 8,
   "metadata": {},
   "outputs": [
    {
     "data": {
      "text/html": [
       "<div>\n",
       "<style scoped>\n",
       "    .dataframe tbody tr th:only-of-type {\n",
       "        vertical-align: middle;\n",
       "    }\n",
       "\n",
       "    .dataframe tbody tr th {\n",
       "        vertical-align: top;\n",
       "    }\n",
       "\n",
       "    .dataframe thead th {\n",
       "        text-align: right;\n",
       "    }\n",
       "</style>\n",
       "<table border=\"1\" class=\"dataframe\">\n",
       "  <thead>\n",
       "    <tr style=\"text-align: right;\">\n",
       "      <th></th>\n",
       "      <th>NR_TURNO</th>\n",
       "      <th>SG_UF</th>\n",
       "      <th>DS_GENERO</th>\n",
       "      <th>TOTAL</th>\n",
       "    </tr>\n",
       "  </thead>\n",
       "  <tbody>\n",
       "    <tr>\n",
       "      <th>0</th>\n",
       "      <td>1</td>\n",
       "      <td>AC</td>\n",
       "      <td>FEMININO</td>\n",
       "      <td>173</td>\n",
       "    </tr>\n",
       "    <tr>\n",
       "      <th>1</th>\n",
       "      <td>1</td>\n",
       "      <td>AC</td>\n",
       "      <td>MASCULINO</td>\n",
       "      <td>375</td>\n",
       "    </tr>\n",
       "    <tr>\n",
       "      <th>2</th>\n",
       "      <td>1</td>\n",
       "      <td>AL</td>\n",
       "      <td>FEMININO</td>\n",
       "      <td>117</td>\n",
       "    </tr>\n",
       "    <tr>\n",
       "      <th>3</th>\n",
       "      <td>1</td>\n",
       "      <td>AL</td>\n",
       "      <td>MASCULINO</td>\n",
       "      <td>264</td>\n",
       "    </tr>\n",
       "    <tr>\n",
       "      <th>4</th>\n",
       "      <td>1</td>\n",
       "      <td>AM</td>\n",
       "      <td>FEMININO</td>\n",
       "      <td>225</td>\n",
       "    </tr>\n",
       "  </tbody>\n",
       "</table>\n",
       "</div>"
      ],
      "text/plain": [
       "   NR_TURNO SG_UF  DS_GENERO  TOTAL\n",
       "0         1    AC   FEMININO    173\n",
       "1         1    AC  MASCULINO    375\n",
       "2         1    AL   FEMININO    117\n",
       "3         1    AL  MASCULINO    264\n",
       "4         1    AM   FEMININO    225"
      ]
     },
     "execution_count": 8,
     "metadata": {},
     "output_type": "execute_result"
    }
   ],
   "source": [
    "turno_uf_genero_tidy = (\n",
    "    candidatos\n",
    "    .groupby([\n",
    "        'NR_TURNO',\n",
    "        'SG_UF',\n",
    "        'DS_GENERO'\n",
    "    ])\n",
    "    .size()\n",
    "    .rename('TOTAL')\n",
    "    .reset_index()\n",
    ")\n",
    "\n",
    "turno_uf_genero_tidy.head()"
   ]
  },
  {
   "cell_type": "code",
   "execution_count": null,
   "metadata": {},
   "outputs": [],
   "source": []
  },
  {
   "cell_type": "code",
   "execution_count": 9,
   "metadata": {},
   "outputs": [
    {
     "data": {
      "text/html": [
       "<div>\n",
       "<style scoped>\n",
       "    .dataframe tbody tr th:only-of-type {\n",
       "        vertical-align: middle;\n",
       "    }\n",
       "\n",
       "    .dataframe tbody tr th {\n",
       "        vertical-align: top;\n",
       "    }\n",
       "\n",
       "    .dataframe thead tr th {\n",
       "        text-align: left;\n",
       "    }\n",
       "\n",
       "    .dataframe thead tr:last-of-type th {\n",
       "        text-align: right;\n",
       "    }\n",
       "</style>\n",
       "<table border=\"1\" class=\"dataframe\">\n",
       "  <thead>\n",
       "    <tr>\n",
       "      <th></th>\n",
       "      <th colspan=\"4\" halign=\"left\">TOTAL</th>\n",
       "    </tr>\n",
       "    <tr>\n",
       "      <th>NR_TURNO</th>\n",
       "      <th colspan=\"2\" halign=\"left\">1</th>\n",
       "      <th colspan=\"2\" halign=\"left\">2</th>\n",
       "    </tr>\n",
       "    <tr>\n",
       "      <th>DS_GENERO</th>\n",
       "      <th>FEMININO</th>\n",
       "      <th>MASCULINO</th>\n",
       "      <th>FEMININO</th>\n",
       "      <th>MASCULINO</th>\n",
       "    </tr>\n",
       "    <tr>\n",
       "      <th>SG_UF</th>\n",
       "      <th></th>\n",
       "      <th></th>\n",
       "      <th></th>\n",
       "      <th></th>\n",
       "    </tr>\n",
       "  </thead>\n",
       "  <tbody>\n",
       "    <tr>\n",
       "      <th>AC</th>\n",
       "      <td>173</td>\n",
       "      <td>375</td>\n",
       "      <td>0</td>\n",
       "      <td>0</td>\n",
       "    </tr>\n",
       "    <tr>\n",
       "      <th>AL</th>\n",
       "      <td>117</td>\n",
       "      <td>264</td>\n",
       "      <td>0</td>\n",
       "      <td>0</td>\n",
       "    </tr>\n",
       "    <tr>\n",
       "      <th>AM</th>\n",
       "      <td>225</td>\n",
       "      <td>515</td>\n",
       "      <td>1</td>\n",
       "      <td>3</td>\n",
       "    </tr>\n",
       "    <tr>\n",
       "      <th>AP</th>\n",
       "      <td>171</td>\n",
       "      <td>381</td>\n",
       "      <td>1</td>\n",
       "      <td>3</td>\n",
       "    </tr>\n",
       "    <tr>\n",
       "      <th>BA</th>\n",
       "      <td>332</td>\n",
       "      <td>743</td>\n",
       "      <td>0</td>\n",
       "      <td>0</td>\n",
       "    </tr>\n",
       "    <tr>\n",
       "      <th>BR</th>\n",
       "      <td>7</td>\n",
       "      <td>19</td>\n",
       "      <td>1</td>\n",
       "      <td>3</td>\n",
       "    </tr>\n",
       "    <tr>\n",
       "      <th>CE</th>\n",
       "      <td>231</td>\n",
       "      <td>550</td>\n",
       "      <td>0</td>\n",
       "      <td>0</td>\n",
       "    </tr>\n",
       "    <tr>\n",
       "      <th>DF</th>\n",
       "      <td>343</td>\n",
       "      <td>772</td>\n",
       "      <td>0</td>\n",
       "      <td>4</td>\n",
       "    </tr>\n",
       "    <tr>\n",
       "      <th>ES</th>\n",
       "      <td>245</td>\n",
       "      <td>539</td>\n",
       "      <td>0</td>\n",
       "      <td>0</td>\n",
       "    </tr>\n",
       "    <tr>\n",
       "      <th>GO</th>\n",
       "      <td>323</td>\n",
       "      <td>716</td>\n",
       "      <td>0</td>\n",
       "      <td>0</td>\n",
       "    </tr>\n",
       "    <tr>\n",
       "      <th>MA</th>\n",
       "      <td>222</td>\n",
       "      <td>470</td>\n",
       "      <td>0</td>\n",
       "      <td>0</td>\n",
       "    </tr>\n",
       "    <tr>\n",
       "      <th>MG</th>\n",
       "      <td>653</td>\n",
       "      <td>1482</td>\n",
       "      <td>0</td>\n",
       "      <td>4</td>\n",
       "    </tr>\n",
       "    <tr>\n",
       "      <th>MS</th>\n",
       "      <td>159</td>\n",
       "      <td>329</td>\n",
       "      <td>0</td>\n",
       "      <td>4</td>\n",
       "    </tr>\n",
       "    <tr>\n",
       "      <th>MT</th>\n",
       "      <td>150</td>\n",
       "      <td>333</td>\n",
       "      <td>0</td>\n",
       "      <td>0</td>\n",
       "    </tr>\n",
       "    <tr>\n",
       "      <th>PA</th>\n",
       "      <td>250</td>\n",
       "      <td>560</td>\n",
       "      <td>0</td>\n",
       "      <td>4</td>\n",
       "    </tr>\n",
       "    <tr>\n",
       "      <th>PB</th>\n",
       "      <td>161</td>\n",
       "      <td>375</td>\n",
       "      <td>0</td>\n",
       "      <td>0</td>\n",
       "    </tr>\n",
       "    <tr>\n",
       "      <th>PE</th>\n",
       "      <td>316</td>\n",
       "      <td>675</td>\n",
       "      <td>0</td>\n",
       "      <td>0</td>\n",
       "    </tr>\n",
       "    <tr>\n",
       "      <th>PI</th>\n",
       "      <td>125</td>\n",
       "      <td>274</td>\n",
       "      <td>0</td>\n",
       "      <td>0</td>\n",
       "    </tr>\n",
       "    <tr>\n",
       "      <th>PR</th>\n",
       "      <td>358</td>\n",
       "      <td>820</td>\n",
       "      <td>0</td>\n",
       "      <td>0</td>\n",
       "    </tr>\n",
       "    <tr>\n",
       "      <th>RJ</th>\n",
       "      <td>1021</td>\n",
       "      <td>2327</td>\n",
       "      <td>0</td>\n",
       "      <td>4</td>\n",
       "    </tr>\n",
       "    <tr>\n",
       "      <th>RN</th>\n",
       "      <td>150</td>\n",
       "      <td>323</td>\n",
       "      <td>1</td>\n",
       "      <td>3</td>\n",
       "    </tr>\n",
       "    <tr>\n",
       "      <th>RO</th>\n",
       "      <td>145</td>\n",
       "      <td>362</td>\n",
       "      <td>0</td>\n",
       "      <td>4</td>\n",
       "    </tr>\n",
       "    <tr>\n",
       "      <th>RR</th>\n",
       "      <td>194</td>\n",
       "      <td>425</td>\n",
       "      <td>0</td>\n",
       "      <td>4</td>\n",
       "    </tr>\n",
       "    <tr>\n",
       "      <th>RS</th>\n",
       "      <td>400</td>\n",
       "      <td>856</td>\n",
       "      <td>0</td>\n",
       "      <td>4</td>\n",
       "    </tr>\n",
       "    <tr>\n",
       "      <th>SC</th>\n",
       "      <td>225</td>\n",
       "      <td>496</td>\n",
       "      <td>1</td>\n",
       "      <td>3</td>\n",
       "    </tr>\n",
       "    <tr>\n",
       "      <th>SE</th>\n",
       "      <td>143</td>\n",
       "      <td>305</td>\n",
       "      <td>2</td>\n",
       "      <td>2</td>\n",
       "    </tr>\n",
       "    <tr>\n",
       "      <th>SP</th>\n",
       "      <td>1108</td>\n",
       "      <td>2399</td>\n",
       "      <td>1</td>\n",
       "      <td>3</td>\n",
       "    </tr>\n",
       "    <tr>\n",
       "      <th>TO</th>\n",
       "      <td>94</td>\n",
       "      <td>230</td>\n",
       "      <td>0</td>\n",
       "      <td>0</td>\n",
       "    </tr>\n",
       "  </tbody>\n",
       "</table>\n",
       "</div>"
      ],
      "text/plain": [
       "             TOTAL                             \n",
       "NR_TURNO         1                  2          \n",
       "DS_GENERO FEMININO MASCULINO FEMININO MASCULINO\n",
       "SG_UF                                          \n",
       "AC             173       375        0         0\n",
       "AL             117       264        0         0\n",
       "AM             225       515        1         3\n",
       "AP             171       381        1         3\n",
       "BA             332       743        0         0\n",
       "BR               7        19        1         3\n",
       "CE             231       550        0         0\n",
       "DF             343       772        0         4\n",
       "ES             245       539        0         0\n",
       "GO             323       716        0         0\n",
       "MA             222       470        0         0\n",
       "MG             653      1482        0         4\n",
       "MS             159       329        0         4\n",
       "MT             150       333        0         0\n",
       "PA             250       560        0         4\n",
       "PB             161       375        0         0\n",
       "PE             316       675        0         0\n",
       "PI             125       274        0         0\n",
       "PR             358       820        0         0\n",
       "RJ            1021      2327        0         4\n",
       "RN             150       323        1         3\n",
       "RO             145       362        0         4\n",
       "RR             194       425        0         4\n",
       "RS             400       856        0         4\n",
       "SC             225       496        1         3\n",
       "SE             143       305        2         2\n",
       "SP            1108      2399        1         3\n",
       "TO              94       230        0         0"
      ]
     },
     "execution_count": 9,
     "metadata": {},
     "output_type": "execute_result"
    }
   ],
   "source": [
    "(\n",
    "    turno_uf_genero_tidy\n",
    "    .set_index([\n",
    "        'NR_TURNO',\n",
    "        'SG_UF',\n",
    "        'DS_GENERO'\n",
    "    ])\n",
    "    .unstack(['NR_TURNO', 'DS_GENERO'])\n",
    "    .fillna(0)\n",
    "    .applymap(int)\n",
    ")"
   ]
  },
  {
   "cell_type": "code",
   "execution_count": null,
   "metadata": {},
   "outputs": [],
   "source": []
  },
  {
   "cell_type": "code",
   "execution_count": 10,
   "metadata": {},
   "outputs": [
    {
     "data": {
      "application/vnd.vegalite.v2+json": {
       "$schema": "https://vega.github.io/schema/vega-lite/v2.6.0.json",
       "config": {
        "view": {
         "height": 300,
         "width": 400
        }
       },
       "data": {
        "name": "data-0d089e7de457a77352f36bc564d83a81"
       },
       "datasets": {
        "data-0d089e7de457a77352f36bc564d83a81": [
         {
          "DS_GENERO": "FEMININO",
          "NR_TURNO": 1,
          "SG_UF": "AC",
          "TOTAL": 173
         },
         {
          "DS_GENERO": "MASCULINO",
          "NR_TURNO": 1,
          "SG_UF": "AC",
          "TOTAL": 375
         },
         {
          "DS_GENERO": "FEMININO",
          "NR_TURNO": 1,
          "SG_UF": "AL",
          "TOTAL": 117
         },
         {
          "DS_GENERO": "MASCULINO",
          "NR_TURNO": 1,
          "SG_UF": "AL",
          "TOTAL": 264
         },
         {
          "DS_GENERO": "FEMININO",
          "NR_TURNO": 1,
          "SG_UF": "AM",
          "TOTAL": 225
         },
         {
          "DS_GENERO": "MASCULINO",
          "NR_TURNO": 1,
          "SG_UF": "AM",
          "TOTAL": 515
         },
         {
          "DS_GENERO": "FEMININO",
          "NR_TURNO": 1,
          "SG_UF": "AP",
          "TOTAL": 171
         },
         {
          "DS_GENERO": "MASCULINO",
          "NR_TURNO": 1,
          "SG_UF": "AP",
          "TOTAL": 381
         },
         {
          "DS_GENERO": "FEMININO",
          "NR_TURNO": 1,
          "SG_UF": "BA",
          "TOTAL": 332
         },
         {
          "DS_GENERO": "MASCULINO",
          "NR_TURNO": 1,
          "SG_UF": "BA",
          "TOTAL": 743
         },
         {
          "DS_GENERO": "FEMININO",
          "NR_TURNO": 1,
          "SG_UF": "BR",
          "TOTAL": 7
         },
         {
          "DS_GENERO": "MASCULINO",
          "NR_TURNO": 1,
          "SG_UF": "BR",
          "TOTAL": 19
         },
         {
          "DS_GENERO": "FEMININO",
          "NR_TURNO": 1,
          "SG_UF": "CE",
          "TOTAL": 231
         },
         {
          "DS_GENERO": "MASCULINO",
          "NR_TURNO": 1,
          "SG_UF": "CE",
          "TOTAL": 550
         },
         {
          "DS_GENERO": "FEMININO",
          "NR_TURNO": 1,
          "SG_UF": "DF",
          "TOTAL": 343
         },
         {
          "DS_GENERO": "MASCULINO",
          "NR_TURNO": 1,
          "SG_UF": "DF",
          "TOTAL": 772
         },
         {
          "DS_GENERO": "FEMININO",
          "NR_TURNO": 1,
          "SG_UF": "ES",
          "TOTAL": 245
         },
         {
          "DS_GENERO": "MASCULINO",
          "NR_TURNO": 1,
          "SG_UF": "ES",
          "TOTAL": 539
         },
         {
          "DS_GENERO": "FEMININO",
          "NR_TURNO": 1,
          "SG_UF": "GO",
          "TOTAL": 323
         },
         {
          "DS_GENERO": "MASCULINO",
          "NR_TURNO": 1,
          "SG_UF": "GO",
          "TOTAL": 716
         },
         {
          "DS_GENERO": "FEMININO",
          "NR_TURNO": 1,
          "SG_UF": "MA",
          "TOTAL": 222
         },
         {
          "DS_GENERO": "MASCULINO",
          "NR_TURNO": 1,
          "SG_UF": "MA",
          "TOTAL": 470
         },
         {
          "DS_GENERO": "FEMININO",
          "NR_TURNO": 1,
          "SG_UF": "MG",
          "TOTAL": 653
         },
         {
          "DS_GENERO": "MASCULINO",
          "NR_TURNO": 1,
          "SG_UF": "MG",
          "TOTAL": 1482
         },
         {
          "DS_GENERO": "FEMININO",
          "NR_TURNO": 1,
          "SG_UF": "MS",
          "TOTAL": 159
         },
         {
          "DS_GENERO": "MASCULINO",
          "NR_TURNO": 1,
          "SG_UF": "MS",
          "TOTAL": 329
         },
         {
          "DS_GENERO": "FEMININO",
          "NR_TURNO": 1,
          "SG_UF": "MT",
          "TOTAL": 150
         },
         {
          "DS_GENERO": "MASCULINO",
          "NR_TURNO": 1,
          "SG_UF": "MT",
          "TOTAL": 333
         },
         {
          "DS_GENERO": "FEMININO",
          "NR_TURNO": 1,
          "SG_UF": "PA",
          "TOTAL": 250
         },
         {
          "DS_GENERO": "MASCULINO",
          "NR_TURNO": 1,
          "SG_UF": "PA",
          "TOTAL": 560
         },
         {
          "DS_GENERO": "FEMININO",
          "NR_TURNO": 1,
          "SG_UF": "PB",
          "TOTAL": 161
         },
         {
          "DS_GENERO": "MASCULINO",
          "NR_TURNO": 1,
          "SG_UF": "PB",
          "TOTAL": 375
         },
         {
          "DS_GENERO": "FEMININO",
          "NR_TURNO": 1,
          "SG_UF": "PE",
          "TOTAL": 316
         },
         {
          "DS_GENERO": "MASCULINO",
          "NR_TURNO": 1,
          "SG_UF": "PE",
          "TOTAL": 675
         },
         {
          "DS_GENERO": "FEMININO",
          "NR_TURNO": 1,
          "SG_UF": "PI",
          "TOTAL": 125
         },
         {
          "DS_GENERO": "MASCULINO",
          "NR_TURNO": 1,
          "SG_UF": "PI",
          "TOTAL": 274
         },
         {
          "DS_GENERO": "FEMININO",
          "NR_TURNO": 1,
          "SG_UF": "PR",
          "TOTAL": 358
         },
         {
          "DS_GENERO": "MASCULINO",
          "NR_TURNO": 1,
          "SG_UF": "PR",
          "TOTAL": 820
         },
         {
          "DS_GENERO": "FEMININO",
          "NR_TURNO": 1,
          "SG_UF": "RJ",
          "TOTAL": 1021
         },
         {
          "DS_GENERO": "MASCULINO",
          "NR_TURNO": 1,
          "SG_UF": "RJ",
          "TOTAL": 2327
         },
         {
          "DS_GENERO": "FEMININO",
          "NR_TURNO": 1,
          "SG_UF": "RN",
          "TOTAL": 150
         },
         {
          "DS_GENERO": "MASCULINO",
          "NR_TURNO": 1,
          "SG_UF": "RN",
          "TOTAL": 323
         },
         {
          "DS_GENERO": "FEMININO",
          "NR_TURNO": 1,
          "SG_UF": "RO",
          "TOTAL": 145
         },
         {
          "DS_GENERO": "MASCULINO",
          "NR_TURNO": 1,
          "SG_UF": "RO",
          "TOTAL": 362
         },
         {
          "DS_GENERO": "FEMININO",
          "NR_TURNO": 1,
          "SG_UF": "RR",
          "TOTAL": 194
         },
         {
          "DS_GENERO": "MASCULINO",
          "NR_TURNO": 1,
          "SG_UF": "RR",
          "TOTAL": 425
         },
         {
          "DS_GENERO": "FEMININO",
          "NR_TURNO": 1,
          "SG_UF": "RS",
          "TOTAL": 400
         },
         {
          "DS_GENERO": "MASCULINO",
          "NR_TURNO": 1,
          "SG_UF": "RS",
          "TOTAL": 856
         },
         {
          "DS_GENERO": "FEMININO",
          "NR_TURNO": 1,
          "SG_UF": "SC",
          "TOTAL": 225
         },
         {
          "DS_GENERO": "MASCULINO",
          "NR_TURNO": 1,
          "SG_UF": "SC",
          "TOTAL": 496
         },
         {
          "DS_GENERO": "FEMININO",
          "NR_TURNO": 1,
          "SG_UF": "SE",
          "TOTAL": 143
         },
         {
          "DS_GENERO": "MASCULINO",
          "NR_TURNO": 1,
          "SG_UF": "SE",
          "TOTAL": 305
         },
         {
          "DS_GENERO": "FEMININO",
          "NR_TURNO": 1,
          "SG_UF": "SP",
          "TOTAL": 1108
         },
         {
          "DS_GENERO": "MASCULINO",
          "NR_TURNO": 1,
          "SG_UF": "SP",
          "TOTAL": 2399
         },
         {
          "DS_GENERO": "FEMININO",
          "NR_TURNO": 1,
          "SG_UF": "TO",
          "TOTAL": 94
         },
         {
          "DS_GENERO": "MASCULINO",
          "NR_TURNO": 1,
          "SG_UF": "TO",
          "TOTAL": 230
         }
        ]
       },
       "encoding": {
        "color": {
         "field": "DS_GENERO",
         "legend": {
          "title": "Gênero"
         },
         "scale": {
          "domain": [
           "MASCULINO",
           "FEMININO"
          ],
          "range": [
           "steelblue",
           "salmon"
          ]
         },
         "type": "nominal"
        },
        "x": {
         "field": "TOTAL",
         "title": "Total de Candidatos",
         "type": "quantitative"
        },
        "y": {
         "field": "SG_UF",
         "title": null,
         "type": "nominal"
        }
       },
       "mark": "bar",
       "title": "Candidatos do primeiro turno"
      },
      "image/png": "[encoded data removed]",
      "text/plain": [
       "<VegaLite 2 object>\n",
       "\n",
       "If you see this message, it means the renderer has not been properly enabled\n",
       "for the frontend that you are using. For more information, see\n",
       "https://altair-viz.github.io/user_guide/troubleshooting.html\n"
      ]
     },
     "execution_count": 10,
     "metadata": {},
     "output_type": "execute_result"
    }
   ],
   "source": [
    "alt.Chart(turno_uf_genero_tidy[lambda df: df.NR_TURNO == 1]).mark_bar().encode(\n",
    "    x=alt.X('TOTAL', title='Total de Candidatos'),\n",
    "    y=alt.Y('SG_UF', title=None),\n",
    "    color=alt.Color(\n",
    "        'DS_GENERO:N',\n",
    "        scale=genero_cor,\n",
    "        legend=alt.Legend(title='Gênero'),\n",
    "    )\n",
    ").properties(title='Candidatos do primeiro turno')"
   ]
  },
  {
   "cell_type": "code",
   "execution_count": null,
   "metadata": {},
   "outputs": [],
   "source": []
  },
  {
   "cell_type": "code",
   "execution_count": 11,
   "metadata": {},
   "outputs": [
    {
     "data": {
      "text/html": [
       "<div>\n",
       "<style scoped>\n",
       "    .dataframe tbody tr th:only-of-type {\n",
       "        vertical-align: middle;\n",
       "    }\n",
       "\n",
       "    .dataframe tbody tr th {\n",
       "        vertical-align: top;\n",
       "    }\n",
       "\n",
       "    .dataframe thead th {\n",
       "        text-align: right;\n",
       "    }\n",
       "</style>\n",
       "<table border=\"1\" class=\"dataframe\">\n",
       "  <thead>\n",
       "    <tr style=\"text-align: right;\">\n",
       "      <th></th>\n",
       "      <th>SG_PARTIDO</th>\n",
       "      <th>DS_GENERO</th>\n",
       "      <th>TOTAL</th>\n",
       "    </tr>\n",
       "  </thead>\n",
       "  <tbody>\n",
       "    <tr>\n",
       "      <th>0</th>\n",
       "      <td>AVANTE</td>\n",
       "      <td>FEMININO</td>\n",
       "      <td>269</td>\n",
       "    </tr>\n",
       "    <tr>\n",
       "      <th>1</th>\n",
       "      <td>AVANTE</td>\n",
       "      <td>MASCULINO</td>\n",
       "      <td>664</td>\n",
       "    </tr>\n",
       "    <tr>\n",
       "      <th>2</th>\n",
       "      <td>DC</td>\n",
       "      <td>FEMININO</td>\n",
       "      <td>196</td>\n",
       "    </tr>\n",
       "    <tr>\n",
       "      <th>3</th>\n",
       "      <td>DC</td>\n",
       "      <td>MASCULINO</td>\n",
       "      <td>451</td>\n",
       "    </tr>\n",
       "    <tr>\n",
       "      <th>4</th>\n",
       "      <td>DEM</td>\n",
       "      <td>FEMININO</td>\n",
       "      <td>185</td>\n",
       "    </tr>\n",
       "  </tbody>\n",
       "</table>\n",
       "</div>"
      ],
      "text/plain": [
       "  SG_PARTIDO  DS_GENERO  TOTAL\n",
       "0     AVANTE   FEMININO    269\n",
       "1     AVANTE  MASCULINO    664\n",
       "2         DC   FEMININO    196\n",
       "3         DC  MASCULINO    451\n",
       "4        DEM   FEMININO    185"
      ]
     },
     "execution_count": 11,
     "metadata": {},
     "output_type": "execute_result"
    }
   ],
   "source": [
    "proporcao_genero_tidy = (\n",
    "    candidatos\n",
    "    .loc[lambda df: df.NR_TURNO == 1]\n",
    "    .groupby([\n",
    "        'SG_PARTIDO',\n",
    "        'DS_GENERO'\n",
    "    ])\n",
    "    .size()\n",
    "    .rename('TOTAL')\n",
    "    .reset_index()\n",
    ")\n",
    "\n",
    "proporcao_genero_tidy.head()"
   ]
  },
  {
   "cell_type": "code",
   "execution_count": null,
   "metadata": {},
   "outputs": [],
   "source": []
  },
  {
   "cell_type": "code",
   "execution_count": 12,
   "metadata": {},
   "outputs": [
    {
     "data": {
      "text/html": [
       "<div>\n",
       "<style scoped>\n",
       "    .dataframe tbody tr th:only-of-type {\n",
       "        vertical-align: middle;\n",
       "    }\n",
       "\n",
       "    .dataframe tbody tr th {\n",
       "        vertical-align: top;\n",
       "    }\n",
       "\n",
       "    .dataframe thead th {\n",
       "        text-align: right;\n",
       "    }\n",
       "</style>\n",
       "<table border=\"1\" class=\"dataframe\">\n",
       "  <thead>\n",
       "    <tr style=\"text-align: right;\">\n",
       "      <th>DS_GENERO</th>\n",
       "      <th>FEMININO</th>\n",
       "      <th>MASCULINO</th>\n",
       "      <th>PROPORCAO_FEMININO</th>\n",
       "    </tr>\n",
       "    <tr>\n",
       "      <th>SG_PARTIDO</th>\n",
       "      <th></th>\n",
       "      <th></th>\n",
       "      <th></th>\n",
       "    </tr>\n",
       "  </thead>\n",
       "  <tbody>\n",
       "    <tr>\n",
       "      <th>PMB</th>\n",
       "      <td>155</td>\n",
       "      <td>231</td>\n",
       "      <td>0.401554</td>\n",
       "    </tr>\n",
       "    <tr>\n",
       "      <th>PSTU</th>\n",
       "      <td>73</td>\n",
       "      <td>114</td>\n",
       "      <td>0.390374</td>\n",
       "    </tr>\n",
       "    <tr>\n",
       "      <th>PCO</th>\n",
       "      <td>10</td>\n",
       "      <td>19</td>\n",
       "      <td>0.344828</td>\n",
       "    </tr>\n",
       "    <tr>\n",
       "      <th>PC do B</th>\n",
       "      <td>254</td>\n",
       "      <td>498</td>\n",
       "      <td>0.337766</td>\n",
       "    </tr>\n",
       "    <tr>\n",
       "      <th>PV</th>\n",
       "      <td>275</td>\n",
       "      <td>547</td>\n",
       "      <td>0.334550</td>\n",
       "    </tr>\n",
       "    <tr>\n",
       "      <th>MDB</th>\n",
       "      <td>339</td>\n",
       "      <td>676</td>\n",
       "      <td>0.333990</td>\n",
       "    </tr>\n",
       "    <tr>\n",
       "      <th>PSOL</th>\n",
       "      <td>420</td>\n",
       "      <td>843</td>\n",
       "      <td>0.332542</td>\n",
       "    </tr>\n",
       "    <tr>\n",
       "      <th>PT</th>\n",
       "      <td>380</td>\n",
       "      <td>777</td>\n",
       "      <td>0.328436</td>\n",
       "    </tr>\n",
       "    <tr>\n",
       "      <th>PSDB</th>\n",
       "      <td>284</td>\n",
       "      <td>583</td>\n",
       "      <td>0.327566</td>\n",
       "    </tr>\n",
       "    <tr>\n",
       "      <th>PTB</th>\n",
       "      <td>186</td>\n",
       "      <td>382</td>\n",
       "      <td>0.327465</td>\n",
       "    </tr>\n",
       "    <tr>\n",
       "      <th>PRB</th>\n",
       "      <td>257</td>\n",
       "      <td>549</td>\n",
       "      <td>0.318859</td>\n",
       "    </tr>\n",
       "    <tr>\n",
       "      <th>NOVO</th>\n",
       "      <td>128</td>\n",
       "      <td>281</td>\n",
       "      <td>0.312958</td>\n",
       "    </tr>\n",
       "    <tr>\n",
       "      <th>PRP</th>\n",
       "      <td>268</td>\n",
       "      <td>591</td>\n",
       "      <td>0.311991</td>\n",
       "    </tr>\n",
       "    <tr>\n",
       "      <th>PSB</th>\n",
       "      <td>265</td>\n",
       "      <td>591</td>\n",
       "      <td>0.309579</td>\n",
       "    </tr>\n",
       "    <tr>\n",
       "      <th>SOLIDARIEDADE</th>\n",
       "      <td>221</td>\n",
       "      <td>495</td>\n",
       "      <td>0.308659</td>\n",
       "    </tr>\n",
       "    <tr>\n",
       "      <th>PR</th>\n",
       "      <td>206</td>\n",
       "      <td>466</td>\n",
       "      <td>0.306548</td>\n",
       "    </tr>\n",
       "    <tr>\n",
       "      <th>PTC</th>\n",
       "      <td>208</td>\n",
       "      <td>471</td>\n",
       "      <td>0.306333</td>\n",
       "    </tr>\n",
       "    <tr>\n",
       "      <th>PSC</th>\n",
       "      <td>244</td>\n",
       "      <td>558</td>\n",
       "      <td>0.304239</td>\n",
       "    </tr>\n",
       "    <tr>\n",
       "      <th>PPS</th>\n",
       "      <td>182</td>\n",
       "      <td>417</td>\n",
       "      <td>0.303840</td>\n",
       "    </tr>\n",
       "    <tr>\n",
       "      <th>DC</th>\n",
       "      <td>196</td>\n",
       "      <td>451</td>\n",
       "      <td>0.302937</td>\n",
       "    </tr>\n",
       "    <tr>\n",
       "      <th>PDT</th>\n",
       "      <td>262</td>\n",
       "      <td>604</td>\n",
       "      <td>0.302540</td>\n",
       "    </tr>\n",
       "    <tr>\n",
       "      <th>PATRI</th>\n",
       "      <td>325</td>\n",
       "      <td>753</td>\n",
       "      <td>0.301484</td>\n",
       "    </tr>\n",
       "    <tr>\n",
       "      <th>PMN</th>\n",
       "      <td>197</td>\n",
       "      <td>457</td>\n",
       "      <td>0.301223</td>\n",
       "    </tr>\n",
       "    <tr>\n",
       "      <th>PRTB</th>\n",
       "      <td>254</td>\n",
       "      <td>593</td>\n",
       "      <td>0.299882</td>\n",
       "    </tr>\n",
       "    <tr>\n",
       "      <th>PROS</th>\n",
       "      <td>299</td>\n",
       "      <td>701</td>\n",
       "      <td>0.299000</td>\n",
       "    </tr>\n",
       "    <tr>\n",
       "      <th>PSD</th>\n",
       "      <td>191</td>\n",
       "      <td>449</td>\n",
       "      <td>0.298438</td>\n",
       "    </tr>\n",
       "    <tr>\n",
       "      <th>PHS</th>\n",
       "      <td>266</td>\n",
       "      <td>627</td>\n",
       "      <td>0.297872</td>\n",
       "    </tr>\n",
       "    <tr>\n",
       "      <th>PP</th>\n",
       "      <td>207</td>\n",
       "      <td>491</td>\n",
       "      <td>0.296562</td>\n",
       "    </tr>\n",
       "    <tr>\n",
       "      <th>PPL</th>\n",
       "      <td>151</td>\n",
       "      <td>371</td>\n",
       "      <td>0.289272</td>\n",
       "    </tr>\n",
       "    <tr>\n",
       "      <th>REDE</th>\n",
       "      <td>233</td>\n",
       "      <td>573</td>\n",
       "      <td>0.289082</td>\n",
       "    </tr>\n",
       "    <tr>\n",
       "      <th>DEM</th>\n",
       "      <td>185</td>\n",
       "      <td>456</td>\n",
       "      <td>0.288612</td>\n",
       "    </tr>\n",
       "    <tr>\n",
       "      <th>AVANTE</th>\n",
       "      <td>269</td>\n",
       "      <td>664</td>\n",
       "      <td>0.288317</td>\n",
       "    </tr>\n",
       "    <tr>\n",
       "      <th>PCB</th>\n",
       "      <td>23</td>\n",
       "      <td>57</td>\n",
       "      <td>0.287500</td>\n",
       "    </tr>\n",
       "    <tr>\n",
       "      <th>PODE</th>\n",
       "      <td>239</td>\n",
       "      <td>599</td>\n",
       "      <td>0.285203</td>\n",
       "    </tr>\n",
       "    <tr>\n",
       "      <th>PSL</th>\n",
       "      <td>389</td>\n",
       "      <td>980</td>\n",
       "      <td>0.284149</td>\n",
       "    </tr>\n",
       "  </tbody>\n",
       "</table>\n",
       "</div>"
      ],
      "text/plain": [
       "DS_GENERO      FEMININO  MASCULINO  PROPORCAO_FEMININO\n",
       "SG_PARTIDO                                            \n",
       "PMB                 155        231            0.401554\n",
       "PSTU                 73        114            0.390374\n",
       "PCO                  10         19            0.344828\n",
       "PC do B             254        498            0.337766\n",
       "PV                  275        547            0.334550\n",
       "MDB                 339        676            0.333990\n",
       "PSOL                420        843            0.332542\n",
       "PT                  380        777            0.328436\n",
       "PSDB                284        583            0.327566\n",
       "PTB                 186        382            0.327465\n",
       "PRB                 257        549            0.318859\n",
       "NOVO                128        281            0.312958\n",
       "PRP                 268        591            0.311991\n",
       "PSB                 265        591            0.309579\n",
       "SOLIDARIEDADE       221        495            0.308659\n",
       "PR                  206        466            0.306548\n",
       "PTC                 208        471            0.306333\n",
       "PSC                 244        558            0.304239\n",
       "PPS                 182        417            0.303840\n",
       "DC                  196        451            0.302937\n",
       "PDT                 262        604            0.302540\n",
       "PATRI               325        753            0.301484\n",
       "PMN                 197        457            0.301223\n",
       "PRTB                254        593            0.299882\n",
       "PROS                299        701            0.299000\n",
       "PSD                 191        449            0.298438\n",
       "PHS                 266        627            0.297872\n",
       "PP                  207        491            0.296562\n",
       "PPL                 151        371            0.289272\n",
       "REDE                233        573            0.289082\n",
       "DEM                 185        456            0.288612\n",
       "AVANTE              269        664            0.288317\n",
       "PCB                  23         57            0.287500\n",
       "PODE                239        599            0.285203\n",
       "PSL                 389        980            0.284149"
      ]
     },
     "execution_count": 12,
     "metadata": {},
     "output_type": "execute_result"
    }
   ],
   "source": [
    "proporcao_genero = (\n",
    "    proporcao_genero_tidy\n",
    "    .set_index(['SG_PARTIDO', 'DS_GENERO'])\n",
    "    .unstack(['DS_GENERO'])\n",
    "    .TOTAL\n",
    "    .assign(PROPORCAO_FEMININO=lambda df: df.FEMININO / df.sum(axis='columns'))\n",
    "    .sort_values('PROPORCAO_FEMININO', ascending=False)\n",
    ")\n",
    "\n",
    "proporcao_genero"
   ]
  },
  {
   "cell_type": "code",
   "execution_count": null,
   "metadata": {},
   "outputs": [],
   "source": []
  },
  {
   "cell_type": "code",
   "execution_count": 13,
   "metadata": {},
   "outputs": [
    {
     "data": {
      "application/vnd.vegalite.v2+json": {
       "$schema": "https://vega.github.io/schema/vega-lite/v2.6.0.json",
       "config": {
        "view": {
         "height": 300,
         "width": 400
        }
       },
       "datasets": {
        "data-38b5fbd1b3c655ed44fdb1866a4cec6a": [
         {
          "SG_PARTIDO": "AVANTE",
          "TOTAL": 0.5
         },
         {
          "SG_PARTIDO": "DC",
          "TOTAL": 0.5
         },
         {
          "SG_PARTIDO": "DEM",
          "TOTAL": 0.5
         },
         {
          "SG_PARTIDO": "MDB",
          "TOTAL": 0.5
         },
         {
          "SG_PARTIDO": "NOVO",
          "TOTAL": 0.5
         },
         {
          "SG_PARTIDO": "PATRI",
          "TOTAL": 0.5
         },
         {
          "SG_PARTIDO": "PC do B",
          "TOTAL": 0.5
         },
         {
          "SG_PARTIDO": "PCB",
          "TOTAL": 0.5
         },
         {
          "SG_PARTIDO": "PCO",
          "TOTAL": 0.5
         },
         {
          "SG_PARTIDO": "PDT",
          "TOTAL": 0.5
         },
         {
          "SG_PARTIDO": "PHS",
          "TOTAL": 0.5
         },
         {
          "SG_PARTIDO": "PMB",
          "TOTAL": 0.5
         },
         {
          "SG_PARTIDO": "PMN",
          "TOTAL": 0.5
         },
         {
          "SG_PARTIDO": "PODE",
          "TOTAL": 0.5
         },
         {
          "SG_PARTIDO": "PP",
          "TOTAL": 0.5
         },
         {
          "SG_PARTIDO": "PPL",
          "TOTAL": 0.5
         },
         {
          "SG_PARTIDO": "PPS",
          "TOTAL": 0.5
         },
         {
          "SG_PARTIDO": "PR",
          "TOTAL": 0.5
         },
         {
          "SG_PARTIDO": "PRB",
          "TOTAL": 0.5
         },
         {
          "SG_PARTIDO": "PROS",
          "TOTAL": 0.5
         },
         {
          "SG_PARTIDO": "PRP",
          "TOTAL": 0.5
         },
         {
          "SG_PARTIDO": "PRTB",
          "TOTAL": 0.5
         },
         {
          "SG_PARTIDO": "PSB",
          "TOTAL": 0.5
         },
         {
          "SG_PARTIDO": "PSC",
          "TOTAL": 0.5
         },
         {
          "SG_PARTIDO": "PSD",
          "TOTAL": 0.5
         },
         {
          "SG_PARTIDO": "PSDB",
          "TOTAL": 0.5
         },
         {
          "SG_PARTIDO": "PSL",
          "TOTAL": 0.5
         },
         {
          "SG_PARTIDO": "PSOL",
          "TOTAL": 0.5
         },
         {
          "SG_PARTIDO": "PSTU",
          "TOTAL": 0.5
         },
         {
          "SG_PARTIDO": "PT",
          "TOTAL": 0.5
         },
         {
          "SG_PARTIDO": "PTB",
          "TOTAL": 0.5
         },
         {
          "SG_PARTIDO": "PTC",
          "TOTAL": 0.5
         },
         {
          "SG_PARTIDO": "PV",
          "TOTAL": 0.5
         },
         {
          "SG_PARTIDO": "REDE",
          "TOTAL": 0.5
         },
         {
          "SG_PARTIDO": "SOLIDARIEDADE",
          "TOTAL": 0.5
         }
        ],
        "data-86fe4b0332b265c982e636c96a902feb": [
         {
          "DS_GENERO": "FEMININO",
          "SG_PARTIDO": "AVANTE",
          "TOTAL": 269
         },
         {
          "DS_GENERO": "MASCULINO",
          "SG_PARTIDO": "AVANTE",
          "TOTAL": 664
         },
         {
          "DS_GENERO": "FEMININO",
          "SG_PARTIDO": "DC",
          "TOTAL": 196
         },
         {
          "DS_GENERO": "MASCULINO",
          "SG_PARTIDO": "DC",
          "TOTAL": 451
         },
         {
          "DS_GENERO": "FEMININO",
          "SG_PARTIDO": "DEM",
          "TOTAL": 185
         },
         {
          "DS_GENERO": "MASCULINO",
          "SG_PARTIDO": "DEM",
          "TOTAL": 456
         },
         {
          "DS_GENERO": "FEMININO",
          "SG_PARTIDO": "MDB",
          "TOTAL": 339
         },
         {
          "DS_GENERO": "MASCULINO",
          "SG_PARTIDO": "MDB",
          "TOTAL": 676
         },
         {
          "DS_GENERO": "FEMININO",
          "SG_PARTIDO": "NOVO",
          "TOTAL": 128
         },
         {
          "DS_GENERO": "MASCULINO",
          "SG_PARTIDO": "NOVO",
          "TOTAL": 281
         },
         {
          "DS_GENERO": "FEMININO",
          "SG_PARTIDO": "PATRI",
          "TOTAL": 325
         },
         {
          "DS_GENERO": "MASCULINO",
          "SG_PARTIDO": "PATRI",
          "TOTAL": 753
         },
         {
          "DS_GENERO": "FEMININO",
          "SG_PARTIDO": "PC do B",
          "TOTAL": 254
         },
         {
          "DS_GENERO": "MASCULINO",
          "SG_PARTIDO": "PC do B",
          "TOTAL": 498
         },
         {
          "DS_GENERO": "FEMININO",
          "SG_PARTIDO": "PCB",
          "TOTAL": 23
         },
         {
          "DS_GENERO": "MASCULINO",
          "SG_PARTIDO": "PCB",
          "TOTAL": 57
         },
         {
          "DS_GENERO": "FEMININO",
          "SG_PARTIDO": "PCO",
          "TOTAL": 10
         },
         {
          "DS_GENERO": "MASCULINO",
          "SG_PARTIDO": "PCO",
          "TOTAL": 19
         },
         {
          "DS_GENERO": "FEMININO",
          "SG_PARTIDO": "PDT",
          "TOTAL": 262
         },
         {
          "DS_GENERO": "MASCULINO",
          "SG_PARTIDO": "PDT",
          "TOTAL": 604
         },
         {
          "DS_GENERO": "FEMININO",
          "SG_PARTIDO": "PHS",
          "TOTAL": 266
         },
         {
          "DS_GENERO": "MASCULINO",
          "SG_PARTIDO": "PHS",
          "TOTAL": 627
         },
         {
          "DS_GENERO": "FEMININO",
          "SG_PARTIDO": "PMB",
          "TOTAL": 155
         },
         {
          "DS_GENERO": "MASCULINO",
          "SG_PARTIDO": "PMB",
          "TOTAL": 231
         },
         {
          "DS_GENERO": "FEMININO",
          "SG_PARTIDO": "PMN",
          "TOTAL": 197
         },
         {
          "DS_GENERO": "MASCULINO",
          "SG_PARTIDO": "PMN",
          "TOTAL": 457
         },
         {
          "DS_GENERO": "FEMININO",
          "SG_PARTIDO": "PODE",
          "TOTAL": 239
         },
         {
          "DS_GENERO": "MASCULINO",
          "SG_PARTIDO": "PODE",
          "TOTAL": 599
         },
         {
          "DS_GENERO": "FEMININO",
          "SG_PARTIDO": "PP",
          "TOTAL": 207
         },
         {
          "DS_GENERO": "MASCULINO",
          "SG_PARTIDO": "PP",
          "TOTAL": 491
         },
         {
          "DS_GENERO": "FEMININO",
          "SG_PARTIDO": "PPL",
          "TOTAL": 151
         },
         {
          "DS_GENERO": "MASCULINO",
          "SG_PARTIDO": "PPL",
          "TOTAL": 371
         },
         {
          "DS_GENERO": "FEMININO",
          "SG_PARTIDO": "PPS",
          "TOTAL": 182
         },
         {
          "DS_GENERO": "MASCULINO",
          "SG_PARTIDO": "PPS",
          "TOTAL": 417
         },
         {
          "DS_GENERO": "FEMININO",
          "SG_PARTIDO": "PR",
          "TOTAL": 206
         },
         {
          "DS_GENERO": "MASCULINO",
          "SG_PARTIDO": "PR",
          "TOTAL": 466
         },
         {
          "DS_GENERO": "FEMININO",
          "SG_PARTIDO": "PRB",
          "TOTAL": 257
         },
         {
          "DS_GENERO": "MASCULINO",
          "SG_PARTIDO": "PRB",
          "TOTAL": 549
         },
         {
          "DS_GENERO": "FEMININO",
          "SG_PARTIDO": "PROS",
          "TOTAL": 299
         },
         {
          "DS_GENERO": "MASCULINO",
          "SG_PARTIDO": "PROS",
          "TOTAL": 701
         },
         {
          "DS_GENERO": "FEMININO",
          "SG_PARTIDO": "PRP",
          "TOTAL": 268
         },
         {
          "DS_GENERO": "MASCULINO",
          "SG_PARTIDO": "PRP",
          "TOTAL": 591
         },
         {
          "DS_GENERO": "FEMININO",
          "SG_PARTIDO": "PRTB",
          "TOTAL": 254
         },
         {
          "DS_GENERO": "MASCULINO",
          "SG_PARTIDO": "PRTB",
          "TOTAL": 593
         },
         {
          "DS_GENERO": "FEMININO",
          "SG_PARTIDO": "PSB",
          "TOTAL": 265
         },
         {
          "DS_GENERO": "MASCULINO",
          "SG_PARTIDO": "PSB",
          "TOTAL": 591
         },
         {
          "DS_GENERO": "FEMININO",
          "SG_PARTIDO": "PSC",
          "TOTAL": 244
         },
         {
          "DS_GENERO": "MASCULINO",
          "SG_PARTIDO": "PSC",
          "TOTAL": 558
         },
         {
          "DS_GENERO": "FEMININO",
          "SG_PARTIDO": "PSD",
          "TOTAL": 191
         },
         {
          "DS_GENERO": "MASCULINO",
          "SG_PARTIDO": "PSD",
          "TOTAL": 449
         },
         {
          "DS_GENERO": "FEMININO",
          "SG_PARTIDO": "PSDB",
          "TOTAL": 284
         },
         {
          "DS_GENERO": "MASCULINO",
          "SG_PARTIDO": "PSDB",
          "TOTAL": 583
         },
         {
          "DS_GENERO": "FEMININO",
          "SG_PARTIDO": "PSL",
          "TOTAL": 389
         },
         {
          "DS_GENERO": "MASCULINO",
          "SG_PARTIDO": "PSL",
          "TOTAL": 980
         },
         {
          "DS_GENERO": "FEMININO",
          "SG_PARTIDO": "PSOL",
          "TOTAL": 420
         },
         {
          "DS_GENERO": "MASCULINO",
          "SG_PARTIDO": "PSOL",
          "TOTAL": 843
         },
         {
          "DS_GENERO": "FEMININO",
          "SG_PARTIDO": "PSTU",
          "TOTAL": 73
         },
         {
          "DS_GENERO": "MASCULINO",
          "SG_PARTIDO": "PSTU",
          "TOTAL": 114
         },
         {
          "DS_GENERO": "FEMININO",
          "SG_PARTIDO": "PT",
          "TOTAL": 380
         },
         {
          "DS_GENERO": "MASCULINO",
          "SG_PARTIDO": "PT",
          "TOTAL": 777
         },
         {
          "DS_GENERO": "FEMININO",
          "SG_PARTIDO": "PTB",
          "TOTAL": 186
         },
         {
          "DS_GENERO": "MASCULINO",
          "SG_PARTIDO": "PTB",
          "TOTAL": 382
         },
         {
          "DS_GENERO": "FEMININO",
          "SG_PARTIDO": "PTC",
          "TOTAL": 208
         },
         {
          "DS_GENERO": "MASCULINO",
          "SG_PARTIDO": "PTC",
          "TOTAL": 471
         },
         {
          "DS_GENERO": "FEMININO",
          "SG_PARTIDO": "PV",
          "TOTAL": 275
         },
         {
          "DS_GENERO": "MASCULINO",
          "SG_PARTIDO": "PV",
          "TOTAL": 547
         },
         {
          "DS_GENERO": "FEMININO",
          "SG_PARTIDO": "REDE",
          "TOTAL": 233
         },
         {
          "DS_GENERO": "MASCULINO",
          "SG_PARTIDO": "REDE",
          "TOTAL": 573
         },
         {
          "DS_GENERO": "FEMININO",
          "SG_PARTIDO": "SOLIDARIEDADE",
          "TOTAL": 221
         },
         {
          "DS_GENERO": "MASCULINO",
          "SG_PARTIDO": "SOLIDARIEDADE",
          "TOTAL": 495
         }
        ]
       },
       "layer": [
        {
         "data": {
          "name": "data-86fe4b0332b265c982e636c96a902feb"
         },
         "encoding": {
          "color": {
           "field": "DS_GENERO",
           "legend": {
            "title": "Gênero"
           },
           "scale": {
            "domain": [
             "MASCULINO",
             "FEMININO"
            ],
            "range": [
             "steelblue",
             "salmon"
            ]
           },
           "type": "nominal"
          },
          "order": {
           "field": "DS_GENERO",
           "type": "nominal"
          },
          "x": {
           "field": "TOTAL",
           "stack": "normalize",
           "title": "Proporção",
           "type": "quantitative"
          },
          "y": {
           "field": "SG_PARTIDO",
           "sort": [
            "PMB",
            "PSTU",
            "PCO",
            "PC do B",
            "PV",
            "MDB",
            "PSOL",
            "PT",
            "PSDB",
            "PTB",
            "PRB",
            "NOVO",
            "PRP",
            "PSB",
            "SOLIDARIEDADE",
            "PR",
            "PTC",
            "PSC",
            "PPS",
            "DC",
            "PDT",
            "PATRI",
            "PMN",
            "PRTB",
            "PROS",
            "PSD",
            "PHS",
            "PP",
            "PPL",
            "REDE",
            "DEM",
            "AVANTE",
            "PCB",
            "PODE",
            "PSL"
           ],
           "title": null,
           "type": "nominal"
          }
         },
         "mark": "bar"
        },
        {
         "data": {
          "name": "data-38b5fbd1b3c655ed44fdb1866a4cec6a"
         },
         "encoding": {
          "x": {
           "field": "TOTAL",
           "type": "quantitative"
          }
         },
         "mark": {
          "color": "#666",
          "type": "rule"
         }
        }
       ],
       "title": "Proporção de gênero dos candidatos por partido"
      },
      "image/png": "[encoded data removed]",
      "text/plain": [
       "<VegaLite 2 object>\n",
       "\n",
       "If you see this message, it means the renderer has not been properly enabled\n",
       "for the frontend that you are using. For more information, see\n",
       "https://altair-viz.github.io/user_guide/troubleshooting.html\n"
      ]
     },
     "execution_count": 13,
     "metadata": {},
     "output_type": "execute_result"
    }
   ],
   "source": [
    "(\n",
    "    alt\n",
    "    .Chart(proporcao_genero_tidy)\n",
    "    .mark_bar()\n",
    "    .encode(\n",
    "        x=alt.X('TOTAL', stack='normalize', title='Proporção'),\n",
    "        y=alt.Y('SG_PARTIDO', sort=list(proporcao_genero.index), title=None),\n",
    "        color=alt.Color(\n",
    "            'DS_GENERO:N',\n",
    "            scale=genero_cor,\n",
    "            legend=alt.Legend(title='Gênero')\n",
    "        ),\n",
    "        order=alt.Order('DS_GENERO')\n",
    "    )\n",
    "    + alt.Chart(\n",
    "        proporcao_genero_tidy[['SG_PARTIDO']]\n",
    "        .drop_duplicates()\n",
    "        .assign(TOTAL=0.5)\n",
    "    )\n",
    "    .mark_rule(\n",
    "        color='#666'\n",
    "    ).encode(x='TOTAL')\n",
    ").properties(title='Proporção de gênero dos candidatos por partido')"
   ]
  },
  {
   "cell_type": "code",
   "execution_count": null,
   "metadata": {},
   "outputs": [],
   "source": []
  },
  {
   "cell_type": "code",
   "execution_count": 14,
   "metadata": {},
   "outputs": [
    {
     "data": {
      "text/html": [
       "<div>\n",
       "<style scoped>\n",
       "    .dataframe tbody tr th:only-of-type {\n",
       "        vertical-align: middle;\n",
       "    }\n",
       "\n",
       "    .dataframe tbody tr th {\n",
       "        vertical-align: top;\n",
       "    }\n",
       "\n",
       "    .dataframe thead th {\n",
       "        text-align: right;\n",
       "    }\n",
       "</style>\n",
       "<table border=\"1\" class=\"dataframe\">\n",
       "  <thead>\n",
       "    <tr style=\"text-align: right;\">\n",
       "      <th></th>\n",
       "      <th>SG_PARTIDO</th>\n",
       "      <th>DS_GENERO</th>\n",
       "      <th>DS_COR_RACA</th>\n",
       "      <th>TOTAL</th>\n",
       "    </tr>\n",
       "  </thead>\n",
       "  <tbody>\n",
       "    <tr>\n",
       "      <th>0</th>\n",
       "      <td>AVANTE</td>\n",
       "      <td>FEMININO</td>\n",
       "      <td>AMARELA</td>\n",
       "      <td>3</td>\n",
       "    </tr>\n",
       "    <tr>\n",
       "      <th>1</th>\n",
       "      <td>AVANTE</td>\n",
       "      <td>FEMININO</td>\n",
       "      <td>BRANCA</td>\n",
       "      <td>139</td>\n",
       "    </tr>\n",
       "    <tr>\n",
       "      <th>2</th>\n",
       "      <td>AVANTE</td>\n",
       "      <td>FEMININO</td>\n",
       "      <td>INDÍGENA</td>\n",
       "      <td>1</td>\n",
       "    </tr>\n",
       "    <tr>\n",
       "      <th>3</th>\n",
       "      <td>AVANTE</td>\n",
       "      <td>FEMININO</td>\n",
       "      <td>PARDA</td>\n",
       "      <td>106</td>\n",
       "    </tr>\n",
       "    <tr>\n",
       "      <th>4</th>\n",
       "      <td>AVANTE</td>\n",
       "      <td>FEMININO</td>\n",
       "      <td>PRETA</td>\n",
       "      <td>20</td>\n",
       "    </tr>\n",
       "    <tr>\n",
       "      <th>5</th>\n",
       "      <td>AVANTE</td>\n",
       "      <td>MASCULINO</td>\n",
       "      <td>BRANCA</td>\n",
       "      <td>327</td>\n",
       "    </tr>\n",
       "    <tr>\n",
       "      <th>6</th>\n",
       "      <td>AVANTE</td>\n",
       "      <td>MASCULINO</td>\n",
       "      <td>PARDA</td>\n",
       "      <td>274</td>\n",
       "    </tr>\n",
       "    <tr>\n",
       "      <th>7</th>\n",
       "      <td>AVANTE</td>\n",
       "      <td>MASCULINO</td>\n",
       "      <td>PRETA</td>\n",
       "      <td>63</td>\n",
       "    </tr>\n",
       "    <tr>\n",
       "      <th>8</th>\n",
       "      <td>DC</td>\n",
       "      <td>FEMININO</td>\n",
       "      <td>AMARELA</td>\n",
       "      <td>1</td>\n",
       "    </tr>\n",
       "    <tr>\n",
       "      <th>9</th>\n",
       "      <td>DC</td>\n",
       "      <td>FEMININO</td>\n",
       "      <td>BRANCA</td>\n",
       "      <td>84</td>\n",
       "    </tr>\n",
       "  </tbody>\n",
       "</table>\n",
       "</div>"
      ],
      "text/plain": [
       "  SG_PARTIDO  DS_GENERO DS_COR_RACA  TOTAL\n",
       "0     AVANTE   FEMININO     AMARELA      3\n",
       "1     AVANTE   FEMININO      BRANCA    139\n",
       "2     AVANTE   FEMININO    INDÍGENA      1\n",
       "3     AVANTE   FEMININO       PARDA    106\n",
       "4     AVANTE   FEMININO       PRETA     20\n",
       "5     AVANTE  MASCULINO      BRANCA    327\n",
       "6     AVANTE  MASCULINO       PARDA    274\n",
       "7     AVANTE  MASCULINO       PRETA     63\n",
       "8         DC   FEMININO     AMARELA      1\n",
       "9         DC   FEMININO      BRANCA     84"
      ]
     },
     "execution_count": 14,
     "metadata": {},
     "output_type": "execute_result"
    }
   ],
   "source": [
    "partido_genero_raca_tidy = (\n",
    "    candidatos\n",
    "    .loc[lambda df: df.NR_TURNO == 1]\n",
    "    .groupby([\n",
    "        'SG_PARTIDO',\n",
    "        'DS_GENERO',\n",
    "        'DS_COR_RACA'\n",
    "    ])\n",
    "    .size()\n",
    "    .rename('TOTAL')\n",
    "    .reset_index()\n",
    ")\n",
    "\n",
    "partido_genero_raca_tidy.head(10)"
   ]
  },
  {
   "cell_type": "code",
   "execution_count": null,
   "metadata": {},
   "outputs": [],
   "source": []
  },
  {
   "cell_type": "code",
   "execution_count": 15,
   "metadata": {},
   "outputs": [
    {
     "data": {
      "application/vnd.vegalite.v2+json": {
       "$schema": "https://vega.github.io/schema/vega-lite/v2.6.0.json",
       "config": {
        "view": {
         "height": 300,
         "width": 400
        }
       },
       "datasets": {
        "data-3dcd5c5f55393d765c4814a8e11a0f6e": [
         {
          "DS_COR_RACA": "AMARELA",
          "DS_GENERO": "FEMININO",
          "SG_PARTIDO": "AVANTE",
          "TOTAL": 3
         },
         {
          "DS_COR_RACA": "BRANCA",
          "DS_GENERO": "FEMININO",
          "SG_PARTIDO": "AVANTE",
          "TOTAL": 139
         },
         {
          "DS_COR_RACA": "INDÍGENA",
          "DS_GENERO": "FEMININO",
          "SG_PARTIDO": "AVANTE",
          "TOTAL": 1
         },
         {
          "DS_COR_RACA": "PARDA",
          "DS_GENERO": "FEMININO",
          "SG_PARTIDO": "AVANTE",
          "TOTAL": 106
         },
         {
          "DS_COR_RACA": "PRETA",
          "DS_GENERO": "FEMININO",
          "SG_PARTIDO": "AVANTE",
          "TOTAL": 20
         },
         {
          "DS_COR_RACA": "BRANCA",
          "DS_GENERO": "MASCULINO",
          "SG_PARTIDO": "AVANTE",
          "TOTAL": 327
         },
         {
          "DS_COR_RACA": "PARDA",
          "DS_GENERO": "MASCULINO",
          "SG_PARTIDO": "AVANTE",
          "TOTAL": 274
         },
         {
          "DS_COR_RACA": "PRETA",
          "DS_GENERO": "MASCULINO",
          "SG_PARTIDO": "AVANTE",
          "TOTAL": 63
         },
         {
          "DS_COR_RACA": "AMARELA",
          "DS_GENERO": "FEMININO",
          "SG_PARTIDO": "DC",
          "TOTAL": 1
         },
         {
          "DS_COR_RACA": "BRANCA",
          "DS_GENERO": "FEMININO",
          "SG_PARTIDO": "DC",
          "TOTAL": 84
         },
         {
          "DS_COR_RACA": "PARDA",
          "DS_GENERO": "FEMININO",
          "SG_PARTIDO": "DC",
          "TOTAL": 91
         },
         {
          "DS_COR_RACA": "PRETA",
          "DS_GENERO": "FEMININO",
          "SG_PARTIDO": "DC",
          "TOTAL": 20
         },
         {
          "DS_COR_RACA": "BRANCA",
          "DS_GENERO": "MASCULINO",
          "SG_PARTIDO": "DC",
          "TOTAL": 220
         },
         {
          "DS_COR_RACA": "INDÍGENA",
          "DS_GENERO": "MASCULINO",
          "SG_PARTIDO": "DC",
          "TOTAL": 2
         },
         {
          "DS_COR_RACA": "PARDA",
          "DS_GENERO": "MASCULINO",
          "SG_PARTIDO": "DC",
          "TOTAL": 187
         },
         {
          "DS_COR_RACA": "PRETA",
          "DS_GENERO": "MASCULINO",
          "SG_PARTIDO": "DC",
          "TOTAL": 42
         },
         {
          "DS_COR_RACA": "AMARELA",
          "DS_GENERO": "FEMININO",
          "SG_PARTIDO": "DEM",
          "TOTAL": 1
         },
         {
          "DS_COR_RACA": "BRANCA",
          "DS_GENERO": "FEMININO",
          "SG_PARTIDO": "DEM",
          "TOTAL": 95
         },
         {
          "DS_COR_RACA": "PARDA",
          "DS_GENERO": "FEMININO",
          "SG_PARTIDO": "DEM",
          "TOTAL": 67
         },
         {
          "DS_COR_RACA": "PRETA",
          "DS_GENERO": "FEMININO",
          "SG_PARTIDO": "DEM",
          "TOTAL": 22
         },
         {
          "DS_COR_RACA": "AMARELA",
          "DS_GENERO": "MASCULINO",
          "SG_PARTIDO": "DEM",
          "TOTAL": 2
         },
         {
          "DS_COR_RACA": "BRANCA",
          "DS_GENERO": "MASCULINO",
          "SG_PARTIDO": "DEM",
          "TOTAL": 273
         },
         {
          "DS_COR_RACA": "INDÍGENA",
          "DS_GENERO": "MASCULINO",
          "SG_PARTIDO": "DEM",
          "TOTAL": 1
         },
         {
          "DS_COR_RACA": "PARDA",
          "DS_GENERO": "MASCULINO",
          "SG_PARTIDO": "DEM",
          "TOTAL": 158
         },
         {
          "DS_COR_RACA": "PRETA",
          "DS_GENERO": "MASCULINO",
          "SG_PARTIDO": "DEM",
          "TOTAL": 22
         },
         {
          "DS_COR_RACA": "AMARELA",
          "DS_GENERO": "FEMININO",
          "SG_PARTIDO": "MDB",
          "TOTAL": 1
         },
         {
          "DS_COR_RACA": "BRANCA",
          "DS_GENERO": "FEMININO",
          "SG_PARTIDO": "MDB",
          "TOTAL": 203
         },
         {
          "DS_COR_RACA": "INDÍGENA",
          "DS_GENERO": "FEMININO",
          "SG_PARTIDO": "MDB",
          "TOTAL": 2
         },
         {
          "DS_COR_RACA": "PARDA",
          "DS_GENERO": "FEMININO",
          "SG_PARTIDO": "MDB",
          "TOTAL": 108
         },
         {
          "DS_COR_RACA": "PRETA",
          "DS_GENERO": "FEMININO",
          "SG_PARTIDO": "MDB",
          "TOTAL": 25
         },
         {
          "DS_COR_RACA": "AMARELA",
          "DS_GENERO": "MASCULINO",
          "SG_PARTIDO": "MDB",
          "TOTAL": 1
         },
         {
          "DS_COR_RACA": "BRANCA",
          "DS_GENERO": "MASCULINO",
          "SG_PARTIDO": "MDB",
          "TOTAL": 437
         },
         {
          "DS_COR_RACA": "PARDA",
          "DS_GENERO": "MASCULINO",
          "SG_PARTIDO": "MDB",
          "TOTAL": 196
         },
         {
          "DS_COR_RACA": "PRETA",
          "DS_GENERO": "MASCULINO",
          "SG_PARTIDO": "MDB",
          "TOTAL": 42
         },
         {
          "DS_COR_RACA": "AMARELA",
          "DS_GENERO": "FEMININO",
          "SG_PARTIDO": "NOVO",
          "TOTAL": 1
         },
         {
          "DS_COR_RACA": "BRANCA",
          "DS_GENERO": "FEMININO",
          "SG_PARTIDO": "NOVO",
          "TOTAL": 112
         },
         {
          "DS_COR_RACA": "PARDA",
          "DS_GENERO": "FEMININO",
          "SG_PARTIDO": "NOVO",
          "TOTAL": 14
         },
         {
          "DS_COR_RACA": "PRETA",
          "DS_GENERO": "FEMININO",
          "SG_PARTIDO": "NOVO",
          "TOTAL": 1
         },
         {
          "DS_COR_RACA": "AMARELA",
          "DS_GENERO": "MASCULINO",
          "SG_PARTIDO": "NOVO",
          "TOTAL": 3
         },
         {
          "DS_COR_RACA": "BRANCA",
          "DS_GENERO": "MASCULINO",
          "SG_PARTIDO": "NOVO",
          "TOTAL": 233
         },
         {
          "DS_COR_RACA": "PARDA",
          "DS_GENERO": "MASCULINO",
          "SG_PARTIDO": "NOVO",
          "TOTAL": 41
         },
         {
          "DS_COR_RACA": "PRETA",
          "DS_GENERO": "MASCULINO",
          "SG_PARTIDO": "NOVO",
          "TOTAL": 4
         },
         {
          "DS_COR_RACA": "AMARELA",
          "DS_GENERO": "FEMININO",
          "SG_PARTIDO": "PATRI",
          "TOTAL": 3
         },
         {
          "DS_COR_RACA": "BRANCA",
          "DS_GENERO": "FEMININO",
          "SG_PARTIDO": "PATRI",
          "TOTAL": 142
         },
         {
          "DS_COR_RACA": "INDÍGENA",
          "DS_GENERO": "FEMININO",
          "SG_PARTIDO": "PATRI",
          "TOTAL": 2
         },
         {
          "DS_COR_RACA": "PARDA",
          "DS_GENERO": "FEMININO",
          "SG_PARTIDO": "PATRI",
          "TOTAL": 140
         },
         {
          "DS_COR_RACA": "PRETA",
          "DS_GENERO": "FEMININO",
          "SG_PARTIDO": "PATRI",
          "TOTAL": 38
         },
         {
          "DS_COR_RACA": "AMARELA",
          "DS_GENERO": "MASCULINO",
          "SG_PARTIDO": "PATRI",
          "TOTAL": 3
         },
         {
          "DS_COR_RACA": "BRANCA",
          "DS_GENERO": "MASCULINO",
          "SG_PARTIDO": "PATRI",
          "TOTAL": 354
         },
         {
          "DS_COR_RACA": "INDÍGENA",
          "DS_GENERO": "MASCULINO",
          "SG_PARTIDO": "PATRI",
          "TOTAL": 1
         },
         {
          "DS_COR_RACA": "PARDA",
          "DS_GENERO": "MASCULINO",
          "SG_PARTIDO": "PATRI",
          "TOTAL": 327
         },
         {
          "DS_COR_RACA": "PRETA",
          "DS_GENERO": "MASCULINO",
          "SG_PARTIDO": "PATRI",
          "TOTAL": 68
         },
         {
          "DS_COR_RACA": "AMARELA",
          "DS_GENERO": "FEMININO",
          "SG_PARTIDO": "PC do B",
          "TOTAL": 3
         },
         {
          "DS_COR_RACA": "BRANCA",
          "DS_GENERO": "FEMININO",
          "SG_PARTIDO": "PC do B",
          "TOTAL": 101
         },
         {
          "DS_COR_RACA": "INDÍGENA",
          "DS_GENERO": "FEMININO",
          "SG_PARTIDO": "PC do B",
          "TOTAL": 3
         },
         {
          "DS_COR_RACA": "PARDA",
          "DS_GENERO": "FEMININO",
          "SG_PARTIDO": "PC do B",
          "TOTAL": 81
         },
         {
          "DS_COR_RACA": "PRETA",
          "DS_GENERO": "FEMININO",
          "SG_PARTIDO": "PC do B",
          "TOTAL": 66
         },
         {
          "DS_COR_RACA": "BRANCA",
          "DS_GENERO": "MASCULINO",
          "SG_PARTIDO": "PC do B",
          "TOTAL": 215
         },
         {
          "DS_COR_RACA": "INDÍGENA",
          "DS_GENERO": "MASCULINO",
          "SG_PARTIDO": "PC do B",
          "TOTAL": 5
         },
         {
          "DS_COR_RACA": "PARDA",
          "DS_GENERO": "MASCULINO",
          "SG_PARTIDO": "PC do B",
          "TOTAL": 171
         },
         {
          "DS_COR_RACA": "PRETA",
          "DS_GENERO": "MASCULINO",
          "SG_PARTIDO": "PC do B",
          "TOTAL": 107
         },
         {
          "DS_COR_RACA": "BRANCA",
          "DS_GENERO": "FEMININO",
          "SG_PARTIDO": "PCB",
          "TOTAL": 10
         },
         {
          "DS_COR_RACA": "INDÍGENA",
          "DS_GENERO": "FEMININO",
          "SG_PARTIDO": "PCB",
          "TOTAL": 1
         },
         {
          "DS_COR_RACA": "PARDA",
          "DS_GENERO": "FEMININO",
          "SG_PARTIDO": "PCB",
          "TOTAL": 5
         },
         {
          "DS_COR_RACA": "PRETA",
          "DS_GENERO": "FEMININO",
          "SG_PARTIDO": "PCB",
          "TOTAL": 7
         },
         {
          "DS_COR_RACA": "BRANCA",
          "DS_GENERO": "MASCULINO",
          "SG_PARTIDO": "PCB",
          "TOTAL": 30
         },
         {
          "DS_COR_RACA": "INDÍGENA",
          "DS_GENERO": "MASCULINO",
          "SG_PARTIDO": "PCB",
          "TOTAL": 4
         },
         {
          "DS_COR_RACA": "PARDA",
          "DS_GENERO": "MASCULINO",
          "SG_PARTIDO": "PCB",
          "TOTAL": 15
         },
         {
          "DS_COR_RACA": "PRETA",
          "DS_GENERO": "MASCULINO",
          "SG_PARTIDO": "PCB",
          "TOTAL": 8
         },
         {
          "DS_COR_RACA": "BRANCA",
          "DS_GENERO": "FEMININO",
          "SG_PARTIDO": "PCO",
          "TOTAL": 6
         },
         {
          "DS_COR_RACA": "PARDA",
          "DS_GENERO": "FEMININO",
          "SG_PARTIDO": "PCO",
          "TOTAL": 3
         },
         {
          "DS_COR_RACA": "PRETA",
          "DS_GENERO": "FEMININO",
          "SG_PARTIDO": "PCO",
          "TOTAL": 1
         },
         {
          "DS_COR_RACA": "BRANCA",
          "DS_GENERO": "MASCULINO",
          "SG_PARTIDO": "PCO",
          "TOTAL": 13
         },
         {
          "DS_COR_RACA": "PARDA",
          "DS_GENERO": "MASCULINO",
          "SG_PARTIDO": "PCO",
          "TOTAL": 2
         },
         {
          "DS_COR_RACA": "PRETA",
          "DS_GENERO": "MASCULINO",
          "SG_PARTIDO": "PCO",
          "TOTAL": 4
         },
         {
          "DS_COR_RACA": "BRANCA",
          "DS_GENERO": "FEMININO",
          "SG_PARTIDO": "PDT",
          "TOTAL": 129
         },
         {
          "DS_COR_RACA": "INDÍGENA",
          "DS_GENERO": "FEMININO",
          "SG_PARTIDO": "PDT",
          "TOTAL": 2
         },
         {
          "DS_COR_RACA": "PARDA",
          "DS_GENERO": "FEMININO",
          "SG_PARTIDO": "PDT",
          "TOTAL": 84
         },
         {
          "DS_COR_RACA": "PRETA",
          "DS_GENERO": "FEMININO",
          "SG_PARTIDO": "PDT",
          "TOTAL": 47
         },
         {
          "DS_COR_RACA": "BRANCA",
          "DS_GENERO": "MASCULINO",
          "SG_PARTIDO": "PDT",
          "TOTAL": 381
         },
         {
          "DS_COR_RACA": "PARDA",
          "DS_GENERO": "MASCULINO",
          "SG_PARTIDO": "PDT",
          "TOTAL": 173
         },
         {
          "DS_COR_RACA": "PRETA",
          "DS_GENERO": "MASCULINO",
          "SG_PARTIDO": "PDT",
          "TOTAL": 50
         },
         {
          "DS_COR_RACA": "AMARELA",
          "DS_GENERO": "FEMININO",
          "SG_PARTIDO": "PHS",
          "TOTAL": 1
         },
         {
          "DS_COR_RACA": "BRANCA",
          "DS_GENERO": "FEMININO",
          "SG_PARTIDO": "PHS",
          "TOTAL": 133
         },
         {
          "DS_COR_RACA": "INDÍGENA",
          "DS_GENERO": "FEMININO",
          "SG_PARTIDO": "PHS",
          "TOTAL": 2
         },
         {
          "DS_COR_RACA": "PARDA",
          "DS_GENERO": "FEMININO",
          "SG_PARTIDO": "PHS",
          "TOTAL": 101
         },
         {
          "DS_COR_RACA": "PRETA",
          "DS_GENERO": "FEMININO",
          "SG_PARTIDO": "PHS",
          "TOTAL": 29
         },
         {
          "DS_COR_RACA": "AMARELA",
          "DS_GENERO": "MASCULINO",
          "SG_PARTIDO": "PHS",
          "TOTAL": 3
         },
         {
          "DS_COR_RACA": "BRANCA",
          "DS_GENERO": "MASCULINO",
          "SG_PARTIDO": "PHS",
          "TOTAL": 274
         },
         {
          "DS_COR_RACA": "INDÍGENA",
          "DS_GENERO": "MASCULINO",
          "SG_PARTIDO": "PHS",
          "TOTAL": 3
         },
         {
          "DS_COR_RACA": "PARDA",
          "DS_GENERO": "MASCULINO",
          "SG_PARTIDO": "PHS",
          "TOTAL": 297
         },
         {
          "DS_COR_RACA": "PRETA",
          "DS_GENERO": "MASCULINO",
          "SG_PARTIDO": "PHS",
          "TOTAL": 50
         },
         {
          "DS_COR_RACA": "BRANCA",
          "DS_GENERO": "FEMININO",
          "SG_PARTIDO": "PMB",
          "TOTAL": 74
         },
         {
          "DS_COR_RACA": "PARDA",
          "DS_GENERO": "FEMININO",
          "SG_PARTIDO": "PMB",
          "TOTAL": 42
         },
         {
          "DS_COR_RACA": "PRETA",
          "DS_GENERO": "FEMININO",
          "SG_PARTIDO": "PMB",
          "TOTAL": 39
         },
         {
          "DS_COR_RACA": "BRANCA",
          "DS_GENERO": "MASCULINO",
          "SG_PARTIDO": "PMB",
          "TOTAL": 105
         },
         {
          "DS_COR_RACA": "INDÍGENA",
          "DS_GENERO": "MASCULINO",
          "SG_PARTIDO": "PMB",
          "TOTAL": 1
         },
         {
          "DS_COR_RACA": "PARDA",
          "DS_GENERO": "MASCULINO",
          "SG_PARTIDO": "PMB",
          "TOTAL": 91
         },
         {
          "DS_COR_RACA": "PRETA",
          "DS_GENERO": "MASCULINO",
          "SG_PARTIDO": "PMB",
          "TOTAL": 34
         },
         {
          "DS_COR_RACA": "AMARELA",
          "DS_GENERO": "FEMININO",
          "SG_PARTIDO": "PMN",
          "TOTAL": 1
         },
         {
          "DS_COR_RACA": "BRANCA",
          "DS_GENERO": "FEMININO",
          "SG_PARTIDO": "PMN",
          "TOTAL": 92
         },
         {
          "DS_COR_RACA": "PARDA",
          "DS_GENERO": "FEMININO",
          "SG_PARTIDO": "PMN",
          "TOTAL": 84
         },
         {
          "DS_COR_RACA": "PRETA",
          "DS_GENERO": "FEMININO",
          "SG_PARTIDO": "PMN",
          "TOTAL": 20
         },
         {
          "DS_COR_RACA": "BRANCA",
          "DS_GENERO": "MASCULINO",
          "SG_PARTIDO": "PMN",
          "TOTAL": 224
         },
         {
          "DS_COR_RACA": "PARDA",
          "DS_GENERO": "MASCULINO",
          "SG_PARTIDO": "PMN",
          "TOTAL": 200
         },
         {
          "DS_COR_RACA": "PRETA",
          "DS_GENERO": "MASCULINO",
          "SG_PARTIDO": "PMN",
          "TOTAL": 33
         },
         {
          "DS_COR_RACA": "BRANCA",
          "DS_GENERO": "FEMININO",
          "SG_PARTIDO": "PODE",
          "TOTAL": 128
         },
         {
          "DS_COR_RACA": "INDÍGENA",
          "DS_GENERO": "FEMININO",
          "SG_PARTIDO": "PODE",
          "TOTAL": 1
         },
         {
          "DS_COR_RACA": "PARDA",
          "DS_GENERO": "FEMININO",
          "SG_PARTIDO": "PODE",
          "TOTAL": 82
         },
         {
          "DS_COR_RACA": "PRETA",
          "DS_GENERO": "FEMININO",
          "SG_PARTIDO": "PODE",
          "TOTAL": 28
         },
         {
          "DS_COR_RACA": "AMARELA",
          "DS_GENERO": "MASCULINO",
          "SG_PARTIDO": "PODE",
          "TOTAL": 2
         },
         {
          "DS_COR_RACA": "BRANCA",
          "DS_GENERO": "MASCULINO",
          "SG_PARTIDO": "PODE",
          "TOTAL": 328
         },
         {
          "DS_COR_RACA": "INDÍGENA",
          "DS_GENERO": "MASCULINO",
          "SG_PARTIDO": "PODE",
          "TOTAL": 1
         },
         {
          "DS_COR_RACA": "PARDA",
          "DS_GENERO": "MASCULINO",
          "SG_PARTIDO": "PODE",
          "TOTAL": 218
         },
         {
          "DS_COR_RACA": "PRETA",
          "DS_GENERO": "MASCULINO",
          "SG_PARTIDO": "PODE",
          "TOTAL": 50
         },
         {
          "DS_COR_RACA": "BRANCA",
          "DS_GENERO": "FEMININO",
          "SG_PARTIDO": "PP",
          "TOTAL": 118
         },
         {
          "DS_COR_RACA": "INDÍGENA",
          "DS_GENERO": "FEMININO",
          "SG_PARTIDO": "PP",
          "TOTAL": 1
         },
         {
          "DS_COR_RACA": "PARDA",
          "DS_GENERO": "FEMININO",
          "SG_PARTIDO": "PP",
          "TOTAL": 63
         },
         {
          "DS_COR_RACA": "PRETA",
          "DS_GENERO": "FEMININO",
          "SG_PARTIDO": "PP",
          "TOTAL": 25
         },
         {
          "DS_COR_RACA": "AMARELA",
          "DS_GENERO": "MASCULINO",
          "SG_PARTIDO": "PP",
          "TOTAL": 2
         },
         {
          "DS_COR_RACA": "BRANCA",
          "DS_GENERO": "MASCULINO",
          "SG_PARTIDO": "PP",
          "TOTAL": 329
         },
         {
          "DS_COR_RACA": "PARDA",
          "DS_GENERO": "MASCULINO",
          "SG_PARTIDO": "PP",
          "TOTAL": 128
         },
         {
          "DS_COR_RACA": "PRETA",
          "DS_GENERO": "MASCULINO",
          "SG_PARTIDO": "PP",
          "TOTAL": 32
         },
         {
          "DS_COR_RACA": "AMARELA",
          "DS_GENERO": "FEMININO",
          "SG_PARTIDO": "PPL",
          "TOTAL": 1
         },
         {
          "DS_COR_RACA": "BRANCA",
          "DS_GENERO": "FEMININO",
          "SG_PARTIDO": "PPL",
          "TOTAL": 70
         },
         {
          "DS_COR_RACA": "INDÍGENA",
          "DS_GENERO": "FEMININO",
          "SG_PARTIDO": "PPL",
          "TOTAL": 2
         },
         {
          "DS_COR_RACA": "PARDA",
          "DS_GENERO": "FEMININO",
          "SG_PARTIDO": "PPL",
          "TOTAL": 53
         },
         {
          "DS_COR_RACA": "PRETA",
          "DS_GENERO": "FEMININO",
          "SG_PARTIDO": "PPL",
          "TOTAL": 25
         },
         {
          "DS_COR_RACA": "AMARELA",
          "DS_GENERO": "MASCULINO",
          "SG_PARTIDO": "PPL",
          "TOTAL": 1
         },
         {
          "DS_COR_RACA": "BRANCA",
          "DS_GENERO": "MASCULINO",
          "SG_PARTIDO": "PPL",
          "TOTAL": 169
         },
         {
          "DS_COR_RACA": "INDÍGENA",
          "DS_GENERO": "MASCULINO",
          "SG_PARTIDO": "PPL",
          "TOTAL": 1
         },
         {
          "DS_COR_RACA": "PARDA",
          "DS_GENERO": "MASCULINO",
          "SG_PARTIDO": "PPL",
          "TOTAL": 143
         },
         {
          "DS_COR_RACA": "PRETA",
          "DS_GENERO": "MASCULINO",
          "SG_PARTIDO": "PPL",
          "TOTAL": 57
         },
         {
          "DS_COR_RACA": "AMARELA",
          "DS_GENERO": "FEMININO",
          "SG_PARTIDO": "PPS",
          "TOTAL": 1
         },
         {
          "DS_COR_RACA": "BRANCA",
          "DS_GENERO": "FEMININO",
          "SG_PARTIDO": "PPS",
          "TOTAL": 93
         },
         {
          "DS_COR_RACA": "PARDA",
          "DS_GENERO": "FEMININO",
          "SG_PARTIDO": "PPS",
          "TOTAL": 72
         },
         {
          "DS_COR_RACA": "PRETA",
          "DS_GENERO": "FEMININO",
          "SG_PARTIDO": "PPS",
          "TOTAL": 16
         },
         {
          "DS_COR_RACA": "AMARELA",
          "DS_GENERO": "MASCULINO",
          "SG_PARTIDO": "PPS",
          "TOTAL": 4
         },
         {
          "DS_COR_RACA": "BRANCA",
          "DS_GENERO": "MASCULINO",
          "SG_PARTIDO": "PPS",
          "TOTAL": 230
         },
         {
          "DS_COR_RACA": "INDÍGENA",
          "DS_GENERO": "MASCULINO",
          "SG_PARTIDO": "PPS",
          "TOTAL": 2
         },
         {
          "DS_COR_RACA": "PARDA",
          "DS_GENERO": "MASCULINO",
          "SG_PARTIDO": "PPS",
          "TOTAL": 157
         },
         {
          "DS_COR_RACA": "PRETA",
          "DS_GENERO": "MASCULINO",
          "SG_PARTIDO": "PPS",
          "TOTAL": 24
         },
         {
          "DS_COR_RACA": "BRANCA",
          "DS_GENERO": "FEMININO",
          "SG_PARTIDO": "PR",
          "TOTAL": 115
         },
         {
          "DS_COR_RACA": "INDÍGENA",
          "DS_GENERO": "FEMININO",
          "SG_PARTIDO": "PR",
          "TOTAL": 1
         },
         {
          "DS_COR_RACA": "PARDA",
          "DS_GENERO": "FEMININO",
          "SG_PARTIDO": "PR",
          "TOTAL": 74
         },
         {
          "DS_COR_RACA": "PRETA",
          "DS_GENERO": "FEMININO",
          "SG_PARTIDO": "PR",
          "TOTAL": 16
         },
         {
          "DS_COR_RACA": "AMARELA",
          "DS_GENERO": "MASCULINO",
          "SG_PARTIDO": "PR",
          "TOTAL": 2
         },
         {
          "DS_COR_RACA": "BRANCA",
          "DS_GENERO": "MASCULINO",
          "SG_PARTIDO": "PR",
          "TOTAL": 273
         },
         {
          "DS_COR_RACA": "PARDA",
          "DS_GENERO": "MASCULINO",
          "SG_PARTIDO": "PR",
          "TOTAL": 156
         },
         {
          "DS_COR_RACA": "PRETA",
          "DS_GENERO": "MASCULINO",
          "SG_PARTIDO": "PR",
          "TOTAL": 35
         },
         {
          "DS_COR_RACA": "AMARELA",
          "DS_GENERO": "FEMININO",
          "SG_PARTIDO": "PRB",
          "TOTAL": 3
         },
         {
          "DS_COR_RACA": "BRANCA",
          "DS_GENERO": "FEMININO",
          "SG_PARTIDO": "PRB",
          "TOTAL": 139
         },
         {
          "DS_COR_RACA": "INDÍGENA",
          "DS_GENERO": "FEMININO",
          "SG_PARTIDO": "PRB",
          "TOTAL": 1
         },
         {
          "DS_COR_RACA": "PARDA",
          "DS_GENERO": "FEMININO",
          "SG_PARTIDO": "PRB",
          "TOTAL": 87
         },
         {
          "DS_COR_RACA": "PRETA",
          "DS_GENERO": "FEMININO",
          "SG_PARTIDO": "PRB",
          "TOTAL": 27
         },
         {
          "DS_COR_RACA": "AMARELA",
          "DS_GENERO": "MASCULINO",
          "SG_PARTIDO": "PRB",
          "TOTAL": 2
         },
         {
          "DS_COR_RACA": "BRANCA",
          "DS_GENERO": "MASCULINO",
          "SG_PARTIDO": "PRB",
          "TOTAL": 287
         },
         {
          "DS_COR_RACA": "INDÍGENA",
          "DS_GENERO": "MASCULINO",
          "SG_PARTIDO": "PRB",
          "TOTAL": 2
         },
         {
          "DS_COR_RACA": "PARDA",
          "DS_GENERO": "MASCULINO",
          "SG_PARTIDO": "PRB",
          "TOTAL": 200
         },
         {
          "DS_COR_RACA": "PRETA",
          "DS_GENERO": "MASCULINO",
          "SG_PARTIDO": "PRB",
          "TOTAL": 58
         },
         {
          "DS_COR_RACA": "BRANCA",
          "DS_GENERO": "FEMININO",
          "SG_PARTIDO": "PROS",
          "TOTAL": 166
         },
         {
          "DS_COR_RACA": "PARDA",
          "DS_GENERO": "FEMININO",
          "SG_PARTIDO": "PROS",
          "TOTAL": 94
         },
         {
          "DS_COR_RACA": "PRETA",
          "DS_GENERO": "FEMININO",
          "SG_PARTIDO": "PROS",
          "TOTAL": 39
         },
         {
          "DS_COR_RACA": "AMARELA",
          "DS_GENERO": "MASCULINO",
          "SG_PARTIDO": "PROS",
          "TOTAL": 3
         },
         {
          "DS_COR_RACA": "BRANCA",
          "DS_GENERO": "MASCULINO",
          "SG_PARTIDO": "PROS",
          "TOTAL": 376
         },
         {
          "DS_COR_RACA": "PARDA",
          "DS_GENERO": "MASCULINO",
          "SG_PARTIDO": "PROS",
          "TOTAL": 260
         },
         {
          "DS_COR_RACA": "PRETA",
          "DS_GENERO": "MASCULINO",
          "SG_PARTIDO": "PROS",
          "TOTAL": 62
         },
         {
          "DS_COR_RACA": "BRANCA",
          "DS_GENERO": "FEMININO",
          "SG_PARTIDO": "PRP",
          "TOTAL": 125
         },
         {
          "DS_COR_RACA": "PARDA",
          "DS_GENERO": "FEMININO",
          "SG_PARTIDO": "PRP",
          "TOTAL": 99
         },
         {
          "DS_COR_RACA": "PRETA",
          "DS_GENERO": "FEMININO",
          "SG_PARTIDO": "PRP",
          "TOTAL": 44
         },
         {
          "DS_COR_RACA": "AMARELA",
          "DS_GENERO": "MASCULINO",
          "SG_PARTIDO": "PRP",
          "TOTAL": 5
         },
         {
          "DS_COR_RACA": "BRANCA",
          "DS_GENERO": "MASCULINO",
          "SG_PARTIDO": "PRP",
          "TOTAL": 279
         },
         {
          "DS_COR_RACA": "INDÍGENA",
          "DS_GENERO": "MASCULINO",
          "SG_PARTIDO": "PRP",
          "TOTAL": 1
         },
         {
          "DS_COR_RACA": "PARDA",
          "DS_GENERO": "MASCULINO",
          "SG_PARTIDO": "PRP",
          "TOTAL": 249
         },
         {
          "DS_COR_RACA": "PRETA",
          "DS_GENERO": "MASCULINO",
          "SG_PARTIDO": "PRP",
          "TOTAL": 57
         },
         {
          "DS_COR_RACA": "AMARELA",
          "DS_GENERO": "FEMININO",
          "SG_PARTIDO": "PRTB",
          "TOTAL": 22
         },
         {
          "DS_COR_RACA": "BRANCA",
          "DS_GENERO": "FEMININO",
          "SG_PARTIDO": "PRTB",
          "TOTAL": 146
         },
         {
          "DS_COR_RACA": "INDÍGENA",
          "DS_GENERO": "FEMININO",
          "SG_PARTIDO": "PRTB",
          "TOTAL": 1
         },
         {
          "DS_COR_RACA": "PARDA",
          "DS_GENERO": "FEMININO",
          "SG_PARTIDO": "PRTB",
          "TOTAL": 69
         },
         {
          "DS_COR_RACA": "PRETA",
          "DS_GENERO": "FEMININO",
          "SG_PARTIDO": "PRTB",
          "TOTAL": 16
         },
         {
          "DS_COR_RACA": "AMARELA",
          "DS_GENERO": "MASCULINO",
          "SG_PARTIDO": "PRTB",
          "TOTAL": 30
         },
         {
          "DS_COR_RACA": "BRANCA",
          "DS_GENERO": "MASCULINO",
          "SG_PARTIDO": "PRTB",
          "TOTAL": 321
         },
         {
          "DS_COR_RACA": "INDÍGENA",
          "DS_GENERO": "MASCULINO",
          "SG_PARTIDO": "PRTB",
          "TOTAL": 4
         },
         {
          "DS_COR_RACA": "PARDA",
          "DS_GENERO": "MASCULINO",
          "SG_PARTIDO": "PRTB",
          "TOTAL": 189
         },
         {
          "DS_COR_RACA": "PRETA",
          "DS_GENERO": "MASCULINO",
          "SG_PARTIDO": "PRTB",
          "TOTAL": 49
         },
         {
          "DS_COR_RACA": "AMARELA",
          "DS_GENERO": "FEMININO",
          "SG_PARTIDO": "PSB",
          "TOTAL": 1
         },
         {
          "DS_COR_RACA": "BRANCA",
          "DS_GENERO": "FEMININO",
          "SG_PARTIDO": "PSB",
          "TOTAL": 114
         },
         {
          "DS_COR_RACA": "INDÍGENA",
          "DS_GENERO": "FEMININO",
          "SG_PARTIDO": "PSB",
          "TOTAL": 1
         },
         {
          "DS_COR_RACA": "PARDA",
          "DS_GENERO": "FEMININO",
          "SG_PARTIDO": "PSB",
          "TOTAL": 105
         },
         {
          "DS_COR_RACA": "PRETA",
          "DS_GENERO": "FEMININO",
          "SG_PARTIDO": "PSB",
          "TOTAL": 44
         },
         {
          "DS_COR_RACA": "AMARELA",
          "DS_GENERO": "MASCULINO",
          "SG_PARTIDO": "PSB",
          "TOTAL": 4
         },
         {
          "DS_COR_RACA": "BRANCA",
          "DS_GENERO": "MASCULINO",
          "SG_PARTIDO": "PSB",
          "TOTAL": 345
         },
         {
          "DS_COR_RACA": "INDÍGENA",
          "DS_GENERO": "MASCULINO",
          "SG_PARTIDO": "PSB",
          "TOTAL": 2
         },
         {
          "DS_COR_RACA": "PARDA",
          "DS_GENERO": "MASCULINO",
          "SG_PARTIDO": "PSB",
          "TOTAL": 192
         },
         {
          "DS_COR_RACA": "PRETA",
          "DS_GENERO": "MASCULINO",
          "SG_PARTIDO": "PSB",
          "TOTAL": 48
         },
         {
          "DS_COR_RACA": "BRANCA",
          "DS_GENERO": "FEMININO",
          "SG_PARTIDO": "PSC",
          "TOTAL": 112
         },
         {
          "DS_COR_RACA": "INDÍGENA",
          "DS_GENERO": "FEMININO",
          "SG_PARTIDO": "PSC",
          "TOTAL": 1
         },
         {
          "DS_COR_RACA": "PARDA",
          "DS_GENERO": "FEMININO",
          "SG_PARTIDO": "PSC",
          "TOTAL": 108
         },
         {
          "DS_COR_RACA": "PRETA",
          "DS_GENERO": "FEMININO",
          "SG_PARTIDO": "PSC",
          "TOTAL": 23
         },
         {
          "DS_COR_RACA": "AMARELA",
          "DS_GENERO": "MASCULINO",
          "SG_PARTIDO": "PSC",
          "TOTAL": 1
         },
         {
          "DS_COR_RACA": "BRANCA",
          "DS_GENERO": "MASCULINO",
          "SG_PARTIDO": "PSC",
          "TOTAL": 244
         },
         {
          "DS_COR_RACA": "INDÍGENA",
          "DS_GENERO": "MASCULINO",
          "SG_PARTIDO": "PSC",
          "TOTAL": 1
         },
         {
          "DS_COR_RACA": "PARDA",
          "DS_GENERO": "MASCULINO",
          "SG_PARTIDO": "PSC",
          "TOTAL": 263
         },
         {
          "DS_COR_RACA": "PRETA",
          "DS_GENERO": "MASCULINO",
          "SG_PARTIDO": "PSC",
          "TOTAL": 49
         },
         {
          "DS_COR_RACA": "BRANCA",
          "DS_GENERO": "FEMININO",
          "SG_PARTIDO": "PSD",
          "TOTAL": 113
         },
         {
          "DS_COR_RACA": "PARDA",
          "DS_GENERO": "FEMININO",
          "SG_PARTIDO": "PSD",
          "TOTAL": 63
         },
         {
          "DS_COR_RACA": "PRETA",
          "DS_GENERO": "FEMININO",
          "SG_PARTIDO": "PSD",
          "TOTAL": 15
         },
         {
          "DS_COR_RACA": "BRANCA",
          "DS_GENERO": "MASCULINO",
          "SG_PARTIDO": "PSD",
          "TOTAL": 314
         },
         {
          "DS_COR_RACA": "INDÍGENA",
          "DS_GENERO": "MASCULINO",
          "SG_PARTIDO": "PSD",
          "TOTAL": 2
         },
         {
          "DS_COR_RACA": "PARDA",
          "DS_GENERO": "MASCULINO",
          "SG_PARTIDO": "PSD",
          "TOTAL": 114
         },
         {
          "DS_COR_RACA": "PRETA",
          "DS_GENERO": "MASCULINO",
          "SG_PARTIDO": "PSD",
          "TOTAL": 19
         },
         {
          "DS_COR_RACA": "BRANCA",
          "DS_GENERO": "FEMININO",
          "SG_PARTIDO": "PSDB",
          "TOTAL": 185
         },
         {
          "DS_COR_RACA": "PARDA",
          "DS_GENERO": "FEMININO",
          "SG_PARTIDO": "PSDB",
          "TOTAL": 76
         },
         {
          "DS_COR_RACA": "PRETA",
          "DS_GENERO": "FEMININO",
          "SG_PARTIDO": "PSDB",
          "TOTAL": 23
         },
         {
          "DS_COR_RACA": "AMARELA",
          "DS_GENERO": "MASCULINO",
          "SG_PARTIDO": "PSDB",
          "TOTAL": 5
         },
         {
          "DS_COR_RACA": "BRANCA",
          "DS_GENERO": "MASCULINO",
          "SG_PARTIDO": "PSDB",
          "TOTAL": 399
         },
         {
          "DS_COR_RACA": "INDÍGENA",
          "DS_GENERO": "MASCULINO",
          "SG_PARTIDO": "PSDB",
          "TOTAL": 1
         },
         {
          "DS_COR_RACA": "PARDA",
          "DS_GENERO": "MASCULINO",
          "SG_PARTIDO": "PSDB",
          "TOTAL": 151
         },
         {
          "DS_COR_RACA": "PRETA",
          "DS_GENERO": "MASCULINO",
          "SG_PARTIDO": "PSDB",
          "TOTAL": 27
         },
         {
          "DS_COR_RACA": "AMARELA",
          "DS_GENERO": "FEMININO",
          "SG_PARTIDO": "PSL",
          "TOTAL": 2
         },
         {
          "DS_COR_RACA": "BRANCA",
          "DS_GENERO": "FEMININO",
          "SG_PARTIDO": "PSL",
          "TOTAL": 245
         },
         {
          "DS_COR_RACA": "INDÍGENA",
          "DS_GENERO": "FEMININO",
          "SG_PARTIDO": "PSL",
          "TOTAL": 2
         },
         {
          "DS_COR_RACA": "PARDA",
          "DS_GENERO": "FEMININO",
          "SG_PARTIDO": "PSL",
          "TOTAL": 117
         },
         {
          "DS_COR_RACA": "PRETA",
          "DS_GENERO": "FEMININO",
          "SG_PARTIDO": "PSL",
          "TOTAL": 23
         },
         {
          "DS_COR_RACA": "AMARELA",
          "DS_GENERO": "MASCULINO",
          "SG_PARTIDO": "PSL",
          "TOTAL": 4
         },
         {
          "DS_COR_RACA": "BRANCA",
          "DS_GENERO": "MASCULINO",
          "SG_PARTIDO": "PSL",
          "TOTAL": 556
         },
         {
          "DS_COR_RACA": "PARDA",
          "DS_GENERO": "MASCULINO",
          "SG_PARTIDO": "PSL",
          "TOTAL": 372
         },
         {
          "DS_COR_RACA": "PRETA",
          "DS_GENERO": "MASCULINO",
          "SG_PARTIDO": "PSL",
          "TOTAL": 48
         },
         {
          "DS_COR_RACA": "AMARELA",
          "DS_GENERO": "FEMININO",
          "SG_PARTIDO": "PSOL",
          "TOTAL": 3
         },
         {
          "DS_COR_RACA": "BRANCA",
          "DS_GENERO": "FEMININO",
          "SG_PARTIDO": "PSOL",
          "TOTAL": 179
         },
         {
          "DS_COR_RACA": "INDÍGENA",
          "DS_GENERO": "FEMININO",
          "SG_PARTIDO": "PSOL",
          "TOTAL": 7
         },
         {
          "DS_COR_RACA": "PARDA",
          "DS_GENERO": "FEMININO",
          "SG_PARTIDO": "PSOL",
          "TOTAL": 118
         },
         {
          "DS_COR_RACA": "PRETA",
          "DS_GENERO": "FEMININO",
          "SG_PARTIDO": "PSOL",
          "TOTAL": 113
         },
         {
          "DS_COR_RACA": "AMARELA",
          "DS_GENERO": "MASCULINO",
          "SG_PARTIDO": "PSOL",
          "TOTAL": 5
         },
         {
          "DS_COR_RACA": "BRANCA",
          "DS_GENERO": "MASCULINO",
          "SG_PARTIDO": "PSOL",
          "TOTAL": 376
         },
         {
          "DS_COR_RACA": "INDÍGENA",
          "DS_GENERO": "MASCULINO",
          "SG_PARTIDO": "PSOL",
          "TOTAL": 19
         },
         {
          "DS_COR_RACA": "PARDA",
          "DS_GENERO": "MASCULINO",
          "SG_PARTIDO": "PSOL",
          "TOTAL": 274
         },
         {
          "DS_COR_RACA": "PRETA",
          "DS_GENERO": "MASCULINO",
          "SG_PARTIDO": "PSOL",
          "TOTAL": 169
         },
         {
          "DS_COR_RACA": "BRANCA",
          "DS_GENERO": "FEMININO",
          "SG_PARTIDO": "PSTU",
          "TOTAL": 32
         },
         {
          "DS_COR_RACA": "INDÍGENA",
          "DS_GENERO": "FEMININO",
          "SG_PARTIDO": "PSTU",
          "TOTAL": 4
         },
         {
          "DS_COR_RACA": "PARDA",
          "DS_GENERO": "FEMININO",
          "SG_PARTIDO": "PSTU",
          "TOTAL": 4
         },
         {
          "DS_COR_RACA": "PRETA",
          "DS_GENERO": "FEMININO",
          "SG_PARTIDO": "PSTU",
          "TOTAL": 33
         },
         {
          "DS_COR_RACA": "AMARELA",
          "DS_GENERO": "MASCULINO",
          "SG_PARTIDO": "PSTU",
          "TOTAL": 2
         },
         {
          "DS_COR_RACA": "BRANCA",
          "DS_GENERO": "MASCULINO",
          "SG_PARTIDO": "PSTU",
          "TOTAL": 43
         },
         {
          "DS_COR_RACA": "INDÍGENA",
          "DS_GENERO": "MASCULINO",
          "SG_PARTIDO": "PSTU",
          "TOTAL": 3
         },
         {
          "DS_COR_RACA": "PARDA",
          "DS_GENERO": "MASCULINO",
          "SG_PARTIDO": "PSTU",
          "TOTAL": 14
         },
         {
          "DS_COR_RACA": "PRETA",
          "DS_GENERO": "MASCULINO",
          "SG_PARTIDO": "PSTU",
          "TOTAL": 52
         },
         {
          "DS_COR_RACA": "BRANCA",
          "DS_GENERO": "FEMININO",
          "SG_PARTIDO": "PT",
          "TOTAL": 184
         },
         {
          "DS_COR_RACA": "INDÍGENA",
          "DS_GENERO": "FEMININO",
          "SG_PARTIDO": "PT",
          "TOTAL": 5
         },
         {
          "DS_COR_RACA": "PARDA",
          "DS_GENERO": "FEMININO",
          "SG_PARTIDO": "PT",
          "TOTAL": 84
         },
         {
          "DS_COR_RACA": "PRETA",
          "DS_GENERO": "FEMININO",
          "SG_PARTIDO": "PT",
          "TOTAL": 107
         },
         {
          "DS_COR_RACA": "AMARELA",
          "DS_GENERO": "MASCULINO",
          "SG_PARTIDO": "PT",
          "TOTAL": 3
         },
         {
          "DS_COR_RACA": "BRANCA",
          "DS_GENERO": "MASCULINO",
          "SG_PARTIDO": "PT",
          "TOTAL": 406
         },
         {
          "DS_COR_RACA": "INDÍGENA",
          "DS_GENERO": "MASCULINO",
          "SG_PARTIDO": "PT",
          "TOTAL": 7
         },
         {
          "DS_COR_RACA": "PARDA",
          "DS_GENERO": "MASCULINO",
          "SG_PARTIDO": "PT",
          "TOTAL": 231
         },
         {
          "DS_COR_RACA": "PRETA",
          "DS_GENERO": "MASCULINO",
          "SG_PARTIDO": "PT",
          "TOTAL": 130
         },
         {
          "DS_COR_RACA": "AMARELA",
          "DS_GENERO": "FEMININO",
          "SG_PARTIDO": "PTB",
          "TOTAL": 1
         },
         {
          "DS_COR_RACA": "BRANCA",
          "DS_GENERO": "FEMININO",
          "SG_PARTIDO": "PTB",
          "TOTAL": 93
         },
         {
          "DS_COR_RACA": "INDÍGENA",
          "DS_GENERO": "FEMININO",
          "SG_PARTIDO": "PTB",
          "TOTAL": 1
         },
         {
          "DS_COR_RACA": "PARDA",
          "DS_GENERO": "FEMININO",
          "SG_PARTIDO": "PTB",
          "TOTAL": 71
         },
         {
          "DS_COR_RACA": "PRETA",
          "DS_GENERO": "FEMININO",
          "SG_PARTIDO": "PTB",
          "TOTAL": 20
         },
         {
          "DS_COR_RACA": "AMARELA",
          "DS_GENERO": "MASCULINO",
          "SG_PARTIDO": "PTB",
          "TOTAL": 2
         },
         {
          "DS_COR_RACA": "BRANCA",
          "DS_GENERO": "MASCULINO",
          "SG_PARTIDO": "PTB",
          "TOTAL": 233
         },
         {
          "DS_COR_RACA": "INDÍGENA",
          "DS_GENERO": "MASCULINO",
          "SG_PARTIDO": "PTB",
          "TOTAL": 1
         },
         {
          "DS_COR_RACA": "PARDA",
          "DS_GENERO": "MASCULINO",
          "SG_PARTIDO": "PTB",
          "TOTAL": 130
         },
         {
          "DS_COR_RACA": "PRETA",
          "DS_GENERO": "MASCULINO",
          "SG_PARTIDO": "PTB",
          "TOTAL": 16
         },
         {
          "DS_COR_RACA": "AMARELA",
          "DS_GENERO": "FEMININO",
          "SG_PARTIDO": "PTC",
          "TOTAL": 1
         },
         {
          "DS_COR_RACA": "BRANCA",
          "DS_GENERO": "FEMININO",
          "SG_PARTIDO": "PTC",
          "TOTAL": 97
         },
         {
          "DS_COR_RACA": "INDÍGENA",
          "DS_GENERO": "FEMININO",
          "SG_PARTIDO": "PTC",
          "TOTAL": 1
         },
         {
          "DS_COR_RACA": "PARDA",
          "DS_GENERO": "FEMININO",
          "SG_PARTIDO": "PTC",
          "TOTAL": 85
         },
         {
          "DS_COR_RACA": "PRETA",
          "DS_GENERO": "FEMININO",
          "SG_PARTIDO": "PTC",
          "TOTAL": 24
         },
         {
          "DS_COR_RACA": "AMARELA",
          "DS_GENERO": "MASCULINO",
          "SG_PARTIDO": "PTC",
          "TOTAL": 2
         },
         {
          "DS_COR_RACA": "BRANCA",
          "DS_GENERO": "MASCULINO",
          "SG_PARTIDO": "PTC",
          "TOTAL": 211
         },
         {
          "DS_COR_RACA": "INDÍGENA",
          "DS_GENERO": "MASCULINO",
          "SG_PARTIDO": "PTC",
          "TOTAL": 1
         },
         {
          "DS_COR_RACA": "PARDA",
          "DS_GENERO": "MASCULINO",
          "SG_PARTIDO": "PTC",
          "TOTAL": 194
         },
         {
          "DS_COR_RACA": "PRETA",
          "DS_GENERO": "MASCULINO",
          "SG_PARTIDO": "PTC",
          "TOTAL": 63
         },
         {
          "DS_COR_RACA": "AMARELA",
          "DS_GENERO": "FEMININO",
          "SG_PARTIDO": "PV",
          "TOTAL": 1
         },
         {
          "DS_COR_RACA": "BRANCA",
          "DS_GENERO": "FEMININO",
          "SG_PARTIDO": "PV",
          "TOTAL": 161
         },
         {
          "DS_COR_RACA": "INDÍGENA",
          "DS_GENERO": "FEMININO",
          "SG_PARTIDO": "PV",
          "TOTAL": 1
         },
         {
          "DS_COR_RACA": "PARDA",
          "DS_GENERO": "FEMININO",
          "SG_PARTIDO": "PV",
          "TOTAL": 91
         },
         {
          "DS_COR_RACA": "PRETA",
          "DS_GENERO": "FEMININO",
          "SG_PARTIDO": "PV",
          "TOTAL": 21
         },
         {
          "DS_COR_RACA": "AMARELA",
          "DS_GENERO": "MASCULINO",
          "SG_PARTIDO": "PV",
          "TOTAL": 2
         },
         {
          "DS_COR_RACA": "BRANCA",
          "DS_GENERO": "MASCULINO",
          "SG_PARTIDO": "PV",
          "TOTAL": 307
         },
         {
          "DS_COR_RACA": "INDÍGENA",
          "DS_GENERO": "MASCULINO",
          "SG_PARTIDO": "PV",
          "TOTAL": 2
         },
         {
          "DS_COR_RACA": "PARDA",
          "DS_GENERO": "MASCULINO",
          "SG_PARTIDO": "PV",
          "TOTAL": 196
         },
         {
          "DS_COR_RACA": "PRETA",
          "DS_GENERO": "MASCULINO",
          "SG_PARTIDO": "PV",
          "TOTAL": 40
         },
         {
          "DS_COR_RACA": "AMARELA",
          "DS_GENERO": "FEMININO",
          "SG_PARTIDO": "REDE",
          "TOTAL": 1
         },
         {
          "DS_COR_RACA": "BRANCA",
          "DS_GENERO": "FEMININO",
          "SG_PARTIDO": "REDE",
          "TOTAL": 115
         },
         {
          "DS_COR_RACA": "INDÍGENA",
          "DS_GENERO": "FEMININO",
          "SG_PARTIDO": "REDE",
          "TOTAL": 4
         },
         {
          "DS_COR_RACA": "PARDA",
          "DS_GENERO": "FEMININO",
          "SG_PARTIDO": "REDE",
          "TOTAL": 76
         },
         {
          "DS_COR_RACA": "PRETA",
          "DS_GENERO": "FEMININO",
          "SG_PARTIDO": "REDE",
          "TOTAL": 37
         },
         {
          "DS_COR_RACA": "AMARELA",
          "DS_GENERO": "MASCULINO",
          "SG_PARTIDO": "REDE",
          "TOTAL": 5
         },
         {
          "DS_COR_RACA": "BRANCA",
          "DS_GENERO": "MASCULINO",
          "SG_PARTIDO": "REDE",
          "TOTAL": 238
         },
         {
          "DS_COR_RACA": "INDÍGENA",
          "DS_GENERO": "MASCULINO",
          "SG_PARTIDO": "REDE",
          "TOTAL": 5
         },
         {
          "DS_COR_RACA": "PARDA",
          "DS_GENERO": "MASCULINO",
          "SG_PARTIDO": "REDE",
          "TOTAL": 243
         },
         {
          "DS_COR_RACA": "PRETA",
          "DS_GENERO": "MASCULINO",
          "SG_PARTIDO": "REDE",
          "TOTAL": 82
         },
         {
          "DS_COR_RACA": "BRANCA",
          "DS_GENERO": "FEMININO",
          "SG_PARTIDO": "SOLIDARIEDADE",
          "TOTAL": 105
         },
         {
          "DS_COR_RACA": "INDÍGENA",
          "DS_GENERO": "FEMININO",
          "SG_PARTIDO": "SOLIDARIEDADE",
          "TOTAL": 1
         },
         {
          "DS_COR_RACA": "PARDA",
          "DS_GENERO": "FEMININO",
          "SG_PARTIDO": "SOLIDARIEDADE",
          "TOTAL": 86
         },
         {
          "DS_COR_RACA": "PRETA",
          "DS_GENERO": "FEMININO",
          "SG_PARTIDO": "SOLIDARIEDADE",
          "TOTAL": 29
         },
         {
          "DS_COR_RACA": "BRANCA",
          "DS_GENERO": "MASCULINO",
          "SG_PARTIDO": "SOLIDARIEDADE",
          "TOTAL": 250
         },
         {
          "DS_COR_RACA": "PARDA",
          "DS_GENERO": "MASCULINO",
          "SG_PARTIDO": "SOLIDARIEDADE",
          "TOTAL": 210
         },
         {
          "DS_COR_RACA": "PRETA",
          "DS_GENERO": "MASCULINO",
          "SG_PARTIDO": "SOLIDARIEDADE",
          "TOTAL": 35
         }
        ]
       },
       "hconcat": [
        {
         "data": {
          "name": "data-3dcd5c5f55393d765c4814a8e11a0f6e"
         },
         "encoding": {
          "color": {
           "field": "DS_COR_RACA",
           "legend": {
            "title": "Cor"
           },
           "scale": {
            "domain": [
             "AMARELA",
             "BRANCA",
             "INDÍGENA",
             "PARDA",
             "PRETA"
            ],
            "range": [
             "#F6DE93",
             "#FEE5C2",
             "#BD6231",
             "#936036",
             "#2D1D10"
            ]
           },
           "type": "nominal"
          },
          "x": {
           "aggregate": "sum",
           "axis": {
            "title": "Total de Candidatos"
           },
           "field": "TOTAL",
           "scale": {
            "domain": [
             0,
             980
            ]
           },
           "sort": "descending",
           "type": "quantitative"
          },
          "y": {
           "axis": null,
           "field": "SG_PARTIDO",
           "type": "nominal"
          }
         },
         "mark": "bar",
         "title": "Feminino",
         "transform": [
          {
           "filter": "(datum.DS_GENERO === 'FEMININO')"
          }
         ]
        },
        {
         "data": {
          "name": "data-3dcd5c5f55393d765c4814a8e11a0f6e"
         },
         "encoding": {
          "text": {
           "field": "SG_PARTIDO",
           "type": "nominal"
          },
          "y": {
           "axis": null,
           "field": "SG_PARTIDO",
           "type": "nominal"
          }
         },
         "mark": {
          "baseline": "middle",
          "type": "text"
         },
         "width": 100
        },
        {
         "data": {
          "name": "data-3dcd5c5f55393d765c4814a8e11a0f6e"
         },
         "encoding": {
          "color": {
           "field": "DS_COR_RACA",
           "legend": {
            "title": "Cor"
           },
           "scale": {
            "domain": [
             "AMARELA",
             "BRANCA",
             "INDÍGENA",
             "PARDA",
             "PRETA"
            ],
            "range": [
             "#F6DE93",
             "#FEE5C2",
             "#BD6231",
             "#936036",
             "#2D1D10"
            ]
           },
           "type": "nominal"
          },
          "x": {
           "aggregate": "sum",
           "axis": {
            "title": "Total de Candidatos"
           },
           "field": "TOTAL",
           "scale": {
            "domain": [
             0,
             980
            ]
           },
           "type": "quantitative"
          },
          "y": {
           "axis": null,
           "field": "SG_PARTIDO",
           "type": "nominal"
          }
         },
         "mark": "bar",
         "title": "Masculino",
         "transform": [
          {
           "filter": "(datum.DS_GENERO === 'MASCULINO')"
          }
         ]
        }
       ]
      },
      "image/png": "[encoded data removed]",
      "text/plain": [
       "<VegaLite 2 object>\n",
       "\n",
       "If you see this message, it means the renderer has not been properly enabled\n",
       "for the frontend that you are using. For more information, see\n",
       "https://altair-viz.github.io/user_guide/troubleshooting.html\n"
      ]
     },
     "execution_count": 15,
     "metadata": {},
     "output_type": "execute_result"
    }
   ],
   "source": [
    "scale = alt.Scale(domain=[\n",
    "    0,\n",
    "    partido_genero_raca_tidy\n",
    "    .groupby(['SG_PARTIDO', 'DS_GENERO'])\n",
    "    .TOTAL\n",
    "    .sum()\n",
    "    .values\n",
    "    .max()\n",
    "])\n",
    "color = alt.Color(\n",
    "    'DS_COR_RACA:N',\n",
    "    scale=raca_cor,\n",
    "    legend=alt.Legend(title='Cor')\n",
    ")\n",
    "\n",
    "axis = alt.Axis(title='Total de Candidatos')\n",
    "\n",
    "base = alt.Chart(partido_genero_raca_tidy)\n",
    "\n",
    "(\n",
    "    base\n",
    "    .transform_filter(datum.DS_GENERO == 'FEMININO')\n",
    "    .mark_bar()\n",
    "    .encode(\n",
    "        x=alt.X('sum(TOTAL):Q', axis=axis, sort=alt.SortOrder('descending'), scale=scale),\n",
    "        y=alt.Y('SG_PARTIDO', axis=None),\n",
    "        color=color,\n",
    "    )\n",
    "    .properties(title='Feminino')\n",
    "\n",
    "    |\n",
    "\n",
    "    base\n",
    "    .encode(\n",
    "        y=alt.Y('SG_PARTIDO:N', axis=None),\n",
    "        text=alt.Text('SG_PARTIDO:N'),\n",
    "    )\n",
    "    .mark_text(baseline='middle')\n",
    "    .properties(width=100)\n",
    "\n",
    "    |\n",
    "\n",
    "    base\n",
    "    .transform_filter(datum.DS_GENERO == 'MASCULINO')\n",
    "    .mark_bar()\n",
    "    .encode(\n",
    "        x=alt.X('sum(TOTAL):Q', axis=axis, scale=scale),\n",
    "        y=alt.Y('SG_PARTIDO', axis=None),\n",
    "        color=color,\n",
    "    )\n",
    "    .properties(title='Masculino')\n",
    ")"
   ]
  },
  {
   "cell_type": "code",
   "execution_count": null,
   "metadata": {},
   "outputs": [],
   "source": []
  },
  {
   "cell_type": "code",
   "execution_count": null,
   "metadata": {},
   "outputs": [],
   "source": []
  },
  {
   "cell_type": "code",
   "execution_count": 16,
   "metadata": {},
   "outputs": [
    {
     "data": {
      "application/vnd.vegalite.v2+json": {
       "$schema": "https://vega.github.io/schema/vega-lite/v2.6.0.json",
       "config": {
        "view": {
         "height": 300,
         "width": 400
        }
       },
       "data": {
        "name": "data-0b651a817a4320e4a4fe4f57ee7f9718"
       },
       "datasets": {
        "data-0b651a817a4320e4a4fe4f57ee7f9718": [
         {
          "DS_COR_RACA": "AMARELA",
          "SG_PARTIDO": "AVANTE",
          "TOTAL": 3
         },
         {
          "DS_COR_RACA": "BRANCA",
          "SG_PARTIDO": "AVANTE",
          "TOTAL": 466
         },
         {
          "DS_COR_RACA": "INDÍGENA",
          "SG_PARTIDO": "AVANTE",
          "TOTAL": 1
         },
         {
          "DS_COR_RACA": "PARDA",
          "SG_PARTIDO": "AVANTE",
          "TOTAL": 380
         },
         {
          "DS_COR_RACA": "PRETA",
          "SG_PARTIDO": "AVANTE",
          "TOTAL": 83
         },
         {
          "DS_COR_RACA": "AMARELA",
          "SG_PARTIDO": "DC",
          "TOTAL": 1
         },
         {
          "DS_COR_RACA": "BRANCA",
          "SG_PARTIDO": "DC",
          "TOTAL": 304
         },
         {
          "DS_COR_RACA": "INDÍGENA",
          "SG_PARTIDO": "DC",
          "TOTAL": 2
         },
         {
          "DS_COR_RACA": "PARDA",
          "SG_PARTIDO": "DC",
          "TOTAL": 278
         },
         {
          "DS_COR_RACA": "PRETA",
          "SG_PARTIDO": "DC",
          "TOTAL": 62
         },
         {
          "DS_COR_RACA": "AMARELA",
          "SG_PARTIDO": "DEM",
          "TOTAL": 3
         },
         {
          "DS_COR_RACA": "BRANCA",
          "SG_PARTIDO": "DEM",
          "TOTAL": 368
         },
         {
          "DS_COR_RACA": "INDÍGENA",
          "SG_PARTIDO": "DEM",
          "TOTAL": 1
         },
         {
          "DS_COR_RACA": "PARDA",
          "SG_PARTIDO": "DEM",
          "TOTAL": 225
         },
         {
          "DS_COR_RACA": "PRETA",
          "SG_PARTIDO": "DEM",
          "TOTAL": 44
         },
         {
          "DS_COR_RACA": "AMARELA",
          "SG_PARTIDO": "MDB",
          "TOTAL": 2
         },
         {
          "DS_COR_RACA": "BRANCA",
          "SG_PARTIDO": "MDB",
          "TOTAL": 640
         },
         {
          "DS_COR_RACA": "INDÍGENA",
          "SG_PARTIDO": "MDB",
          "TOTAL": 2
         },
         {
          "DS_COR_RACA": "PARDA",
          "SG_PARTIDO": "MDB",
          "TOTAL": 304
         },
         {
          "DS_COR_RACA": "PRETA",
          "SG_PARTIDO": "MDB",
          "TOTAL": 67
         },
         {
          "DS_COR_RACA": "AMARELA",
          "SG_PARTIDO": "NOVO",
          "TOTAL": 4
         },
         {
          "DS_COR_RACA": "BRANCA",
          "SG_PARTIDO": "NOVO",
          "TOTAL": 345
         },
         {
          "DS_COR_RACA": "PARDA",
          "SG_PARTIDO": "NOVO",
          "TOTAL": 55
         },
         {
          "DS_COR_RACA": "PRETA",
          "SG_PARTIDO": "NOVO",
          "TOTAL": 5
         },
         {
          "DS_COR_RACA": "AMARELA",
          "SG_PARTIDO": "PATRI",
          "TOTAL": 6
         },
         {
          "DS_COR_RACA": "BRANCA",
          "SG_PARTIDO": "PATRI",
          "TOTAL": 496
         },
         {
          "DS_COR_RACA": "INDÍGENA",
          "SG_PARTIDO": "PATRI",
          "TOTAL": 3
         },
         {
          "DS_COR_RACA": "PARDA",
          "SG_PARTIDO": "PATRI",
          "TOTAL": 467
         },
         {
          "DS_COR_RACA": "PRETA",
          "SG_PARTIDO": "PATRI",
          "TOTAL": 106
         },
         {
          "DS_COR_RACA": "AMARELA",
          "SG_PARTIDO": "PC do B",
          "TOTAL": 3
         },
         {
          "DS_COR_RACA": "BRANCA",
          "SG_PARTIDO": "PC do B",
          "TOTAL": 316
         },
         {
          "DS_COR_RACA": "INDÍGENA",
          "SG_PARTIDO": "PC do B",
          "TOTAL": 8
         },
         {
          "DS_COR_RACA": "PARDA",
          "SG_PARTIDO": "PC do B",
          "TOTAL": 252
         },
         {
          "DS_COR_RACA": "PRETA",
          "SG_PARTIDO": "PC do B",
          "TOTAL": 173
         },
         {
          "DS_COR_RACA": "BRANCA",
          "SG_PARTIDO": "PCB",
          "TOTAL": 40
         },
         {
          "DS_COR_RACA": "INDÍGENA",
          "SG_PARTIDO": "PCB",
          "TOTAL": 5
         },
         {
          "DS_COR_RACA": "PARDA",
          "SG_PARTIDO": "PCB",
          "TOTAL": 20
         },
         {
          "DS_COR_RACA": "PRETA",
          "SG_PARTIDO": "PCB",
          "TOTAL": 15
         },
         {
          "DS_COR_RACA": "BRANCA",
          "SG_PARTIDO": "PCO",
          "TOTAL": 19
         },
         {
          "DS_COR_RACA": "PARDA",
          "SG_PARTIDO": "PCO",
          "TOTAL": 5
         },
         {
          "DS_COR_RACA": "PRETA",
          "SG_PARTIDO": "PCO",
          "TOTAL": 5
         },
         {
          "DS_COR_RACA": "BRANCA",
          "SG_PARTIDO": "PDT",
          "TOTAL": 510
         },
         {
          "DS_COR_RACA": "INDÍGENA",
          "SG_PARTIDO": "PDT",
          "TOTAL": 2
         },
         {
          "DS_COR_RACA": "PARDA",
          "SG_PARTIDO": "PDT",
          "TOTAL": 257
         },
         {
          "DS_COR_RACA": "PRETA",
          "SG_PARTIDO": "PDT",
          "TOTAL": 97
         },
         {
          "DS_COR_RACA": "AMARELA",
          "SG_PARTIDO": "PHS",
          "TOTAL": 4
         },
         {
          "DS_COR_RACA": "BRANCA",
          "SG_PARTIDO": "PHS",
          "TOTAL": 407
         },
         {
          "DS_COR_RACA": "INDÍGENA",
          "SG_PARTIDO": "PHS",
          "TOTAL": 5
         },
         {
          "DS_COR_RACA": "PARDA",
          "SG_PARTIDO": "PHS",
          "TOTAL": 398
         },
         {
          "DS_COR_RACA": "PRETA",
          "SG_PARTIDO": "PHS",
          "TOTAL": 79
         },
         {
          "DS_COR_RACA": "BRANCA",
          "SG_PARTIDO": "PMB",
          "TOTAL": 179
         },
         {
          "DS_COR_RACA": "INDÍGENA",
          "SG_PARTIDO": "PMB",
          "TOTAL": 1
         },
         {
          "DS_COR_RACA": "PARDA",
          "SG_PARTIDO": "PMB",
          "TOTAL": 133
         },
         {
          "DS_COR_RACA": "PRETA",
          "SG_PARTIDO": "PMB",
          "TOTAL": 73
         },
         {
          "DS_COR_RACA": "AMARELA",
          "SG_PARTIDO": "PMN",
          "TOTAL": 1
         },
         {
          "DS_COR_RACA": "BRANCA",
          "SG_PARTIDO": "PMN",
          "TOTAL": 316
         },
         {
          "DS_COR_RACA": "PARDA",
          "SG_PARTIDO": "PMN",
          "TOTAL": 284
         },
         {
          "DS_COR_RACA": "PRETA",
          "SG_PARTIDO": "PMN",
          "TOTAL": 53
         },
         {
          "DS_COR_RACA": "AMARELA",
          "SG_PARTIDO": "PODE",
          "TOTAL": 2
         },
         {
          "DS_COR_RACA": "BRANCA",
          "SG_PARTIDO": "PODE",
          "TOTAL": 456
         },
         {
          "DS_COR_RACA": "INDÍGENA",
          "SG_PARTIDO": "PODE",
          "TOTAL": 2
         },
         {
          "DS_COR_RACA": "PARDA",
          "SG_PARTIDO": "PODE",
          "TOTAL": 300
         },
         {
          "DS_COR_RACA": "PRETA",
          "SG_PARTIDO": "PODE",
          "TOTAL": 78
         },
         {
          "DS_COR_RACA": "AMARELA",
          "SG_PARTIDO": "PP",
          "TOTAL": 2
         },
         {
          "DS_COR_RACA": "BRANCA",
          "SG_PARTIDO": "PP",
          "TOTAL": 447
         },
         {
          "DS_COR_RACA": "INDÍGENA",
          "SG_PARTIDO": "PP",
          "TOTAL": 1
         },
         {
          "DS_COR_RACA": "PARDA",
          "SG_PARTIDO": "PP",
          "TOTAL": 191
         },
         {
          "DS_COR_RACA": "PRETA",
          "SG_PARTIDO": "PP",
          "TOTAL": 57
         },
         {
          "DS_COR_RACA": "AMARELA",
          "SG_PARTIDO": "PPL",
          "TOTAL": 2
         },
         {
          "DS_COR_RACA": "BRANCA",
          "SG_PARTIDO": "PPL",
          "TOTAL": 239
         },
         {
          "DS_COR_RACA": "INDÍGENA",
          "SG_PARTIDO": "PPL",
          "TOTAL": 3
         },
         {
          "DS_COR_RACA": "PARDA",
          "SG_PARTIDO": "PPL",
          "TOTAL": 196
         },
         {
          "DS_COR_RACA": "PRETA",
          "SG_PARTIDO": "PPL",
          "TOTAL": 82
         },
         {
          "DS_COR_RACA": "AMARELA",
          "SG_PARTIDO": "PPS",
          "TOTAL": 5
         },
         {
          "DS_COR_RACA": "BRANCA",
          "SG_PARTIDO": "PPS",
          "TOTAL": 323
         },
         {
          "DS_COR_RACA": "INDÍGENA",
          "SG_PARTIDO": "PPS",
          "TOTAL": 2
         },
         {
          "DS_COR_RACA": "PARDA",
          "SG_PARTIDO": "PPS",
          "TOTAL": 229
         },
         {
          "DS_COR_RACA": "PRETA",
          "SG_PARTIDO": "PPS",
          "TOTAL": 40
         },
         {
          "DS_COR_RACA": "AMARELA",
          "SG_PARTIDO": "PR",
          "TOTAL": 2
         },
         {
          "DS_COR_RACA": "BRANCA",
          "SG_PARTIDO": "PR",
          "TOTAL": 388
         },
         {
          "DS_COR_RACA": "INDÍGENA",
          "SG_PARTIDO": "PR",
          "TOTAL": 1
         },
         {
          "DS_COR_RACA": "PARDA",
          "SG_PARTIDO": "PR",
          "TOTAL": 230
         },
         {
          "DS_COR_RACA": "PRETA",
          "SG_PARTIDO": "PR",
          "TOTAL": 51
         },
         {
          "DS_COR_RACA": "AMARELA",
          "SG_PARTIDO": "PRB",
          "TOTAL": 5
         },
         {
          "DS_COR_RACA": "BRANCA",
          "SG_PARTIDO": "PRB",
          "TOTAL": 426
         },
         {
          "DS_COR_RACA": "INDÍGENA",
          "SG_PARTIDO": "PRB",
          "TOTAL": 3
         },
         {
          "DS_COR_RACA": "PARDA",
          "SG_PARTIDO": "PRB",
          "TOTAL": 287
         },
         {
          "DS_COR_RACA": "PRETA",
          "SG_PARTIDO": "PRB",
          "TOTAL": 85
         },
         {
          "DS_COR_RACA": "AMARELA",
          "SG_PARTIDO": "PROS",
          "TOTAL": 3
         },
         {
          "DS_COR_RACA": "BRANCA",
          "SG_PARTIDO": "PROS",
          "TOTAL": 542
         },
         {
          "DS_COR_RACA": "PARDA",
          "SG_PARTIDO": "PROS",
          "TOTAL": 354
         },
         {
          "DS_COR_RACA": "PRETA",
          "SG_PARTIDO": "PROS",
          "TOTAL": 101
         },
         {
          "DS_COR_RACA": "AMARELA",
          "SG_PARTIDO": "PRP",
          "TOTAL": 5
         },
         {
          "DS_COR_RACA": "BRANCA",
          "SG_PARTIDO": "PRP",
          "TOTAL": 404
         },
         {
          "DS_COR_RACA": "INDÍGENA",
          "SG_PARTIDO": "PRP",
          "TOTAL": 1
         },
         {
          "DS_COR_RACA": "PARDA",
          "SG_PARTIDO": "PRP",
          "TOTAL": 348
         },
         {
          "DS_COR_RACA": "PRETA",
          "SG_PARTIDO": "PRP",
          "TOTAL": 101
         },
         {
          "DS_COR_RACA": "AMARELA",
          "SG_PARTIDO": "PRTB",
          "TOTAL": 52
         },
         {
          "DS_COR_RACA": "BRANCA",
          "SG_PARTIDO": "PRTB",
          "TOTAL": 467
         },
         {
          "DS_COR_RACA": "INDÍGENA",
          "SG_PARTIDO": "PRTB",
          "TOTAL": 5
         },
         {
          "DS_COR_RACA": "PARDA",
          "SG_PARTIDO": "PRTB",
          "TOTAL": 258
         },
         {
          "DS_COR_RACA": "PRETA",
          "SG_PARTIDO": "PRTB",
          "TOTAL": 65
         },
         {
          "DS_COR_RACA": "AMARELA",
          "SG_PARTIDO": "PSB",
          "TOTAL": 5
         },
         {
          "DS_COR_RACA": "BRANCA",
          "SG_PARTIDO": "PSB",
          "TOTAL": 459
         },
         {
          "DS_COR_RACA": "INDÍGENA",
          "SG_PARTIDO": "PSB",
          "TOTAL": 3
         },
         {
          "DS_COR_RACA": "PARDA",
          "SG_PARTIDO": "PSB",
          "TOTAL": 297
         },
         {
          "DS_COR_RACA": "PRETA",
          "SG_PARTIDO": "PSB",
          "TOTAL": 92
         },
         {
          "DS_COR_RACA": "AMARELA",
          "SG_PARTIDO": "PSC",
          "TOTAL": 1
         },
         {
          "DS_COR_RACA": "BRANCA",
          "SG_PARTIDO": "PSC",
          "TOTAL": 356
         },
         {
          "DS_COR_RACA": "INDÍGENA",
          "SG_PARTIDO": "PSC",
          "TOTAL": 2
         },
         {
          "DS_COR_RACA": "PARDA",
          "SG_PARTIDO": "PSC",
          "TOTAL": 371
         },
         {
          "DS_COR_RACA": "PRETA",
          "SG_PARTIDO": "PSC",
          "TOTAL": 72
         },
         {
          "DS_COR_RACA": "BRANCA",
          "SG_PARTIDO": "PSD",
          "TOTAL": 427
         },
         {
          "DS_COR_RACA": "INDÍGENA",
          "SG_PARTIDO": "PSD",
          "TOTAL": 2
         },
         {
          "DS_COR_RACA": "PARDA",
          "SG_PARTIDO": "PSD",
          "TOTAL": 177
         },
         {
          "DS_COR_RACA": "PRETA",
          "SG_PARTIDO": "PSD",
          "TOTAL": 34
         },
         {
          "DS_COR_RACA": "AMARELA",
          "SG_PARTIDO": "PSDB",
          "TOTAL": 5
         },
         {
          "DS_COR_RACA": "BRANCA",
          "SG_PARTIDO": "PSDB",
          "TOTAL": 584
         },
         {
          "DS_COR_RACA": "INDÍGENA",
          "SG_PARTIDO": "PSDB",
          "TOTAL": 1
         },
         {
          "DS_COR_RACA": "PARDA",
          "SG_PARTIDO": "PSDB",
          "TOTAL": 227
         },
         {
          "DS_COR_RACA": "PRETA",
          "SG_PARTIDO": "PSDB",
          "TOTAL": 50
         },
         {
          "DS_COR_RACA": "AMARELA",
          "SG_PARTIDO": "PSL",
          "TOTAL": 6
         },
         {
          "DS_COR_RACA": "BRANCA",
          "SG_PARTIDO": "PSL",
          "TOTAL": 801
         },
         {
          "DS_COR_RACA": "INDÍGENA",
          "SG_PARTIDO": "PSL",
          "TOTAL": 2
         },
         {
          "DS_COR_RACA": "PARDA",
          "SG_PARTIDO": "PSL",
          "TOTAL": 489
         },
         {
          "DS_COR_RACA": "PRETA",
          "SG_PARTIDO": "PSL",
          "TOTAL": 71
         },
         {
          "DS_COR_RACA": "AMARELA",
          "SG_PARTIDO": "PSOL",
          "TOTAL": 8
         },
         {
          "DS_COR_RACA": "BRANCA",
          "SG_PARTIDO": "PSOL",
          "TOTAL": 555
         },
         {
          "DS_COR_RACA": "INDÍGENA",
          "SG_PARTIDO": "PSOL",
          "TOTAL": 26
         },
         {
          "DS_COR_RACA": "PARDA",
          "SG_PARTIDO": "PSOL",
          "TOTAL": 392
         },
         {
          "DS_COR_RACA": "PRETA",
          "SG_PARTIDO": "PSOL",
          "TOTAL": 282
         },
         {
          "DS_COR_RACA": "AMARELA",
          "SG_PARTIDO": "PSTU",
          "TOTAL": 2
         },
         {
          "DS_COR_RACA": "BRANCA",
          "SG_PARTIDO": "PSTU",
          "TOTAL": 75
         },
         {
          "DS_COR_RACA": "INDÍGENA",
          "SG_PARTIDO": "PSTU",
          "TOTAL": 7
         },
         {
          "DS_COR_RACA": "PARDA",
          "SG_PARTIDO": "PSTU",
          "TOTAL": 18
         },
         {
          "DS_COR_RACA": "PRETA",
          "SG_PARTIDO": "PSTU",
          "TOTAL": 85
         },
         {
          "DS_COR_RACA": "AMARELA",
          "SG_PARTIDO": "PT",
          "TOTAL": 3
         },
         {
          "DS_COR_RACA": "BRANCA",
          "SG_PARTIDO": "PT",
          "TOTAL": 590
         },
         {
          "DS_COR_RACA": "INDÍGENA",
          "SG_PARTIDO": "PT",
          "TOTAL": 12
         },
         {
          "DS_COR_RACA": "PARDA",
          "SG_PARTIDO": "PT",
          "TOTAL": 315
         },
         {
          "DS_COR_RACA": "PRETA",
          "SG_PARTIDO": "PT",
          "TOTAL": 237
         },
         {
          "DS_COR_RACA": "AMARELA",
          "SG_PARTIDO": "PTB",
          "TOTAL": 3
         },
         {
          "DS_COR_RACA": "BRANCA",
          "SG_PARTIDO": "PTB",
          "TOTAL": 326
         },
         {
          "DS_COR_RACA": "INDÍGENA",
          "SG_PARTIDO": "PTB",
          "TOTAL": 2
         },
         {
          "DS_COR_RACA": "PARDA",
          "SG_PARTIDO": "PTB",
          "TOTAL": 201
         },
         {
          "DS_COR_RACA": "PRETA",
          "SG_PARTIDO": "PTB",
          "TOTAL": 36
         },
         {
          "DS_COR_RACA": "AMARELA",
          "SG_PARTIDO": "PTC",
          "TOTAL": 3
         },
         {
          "DS_COR_RACA": "BRANCA",
          "SG_PARTIDO": "PTC",
          "TOTAL": 308
         },
         {
          "DS_COR_RACA": "INDÍGENA",
          "SG_PARTIDO": "PTC",
          "TOTAL": 2
         },
         {
          "DS_COR_RACA": "PARDA",
          "SG_PARTIDO": "PTC",
          "TOTAL": 279
         },
         {
          "DS_COR_RACA": "PRETA",
          "SG_PARTIDO": "PTC",
          "TOTAL": 87
         },
         {
          "DS_COR_RACA": "AMARELA",
          "SG_PARTIDO": "PV",
          "TOTAL": 3
         },
         {
          "DS_COR_RACA": "BRANCA",
          "SG_PARTIDO": "PV",
          "TOTAL": 468
         },
         {
          "DS_COR_RACA": "INDÍGENA",
          "SG_PARTIDO": "PV",
          "TOTAL": 3
         },
         {
          "DS_COR_RACA": "PARDA",
          "SG_PARTIDO": "PV",
          "TOTAL": 287
         },
         {
          "DS_COR_RACA": "PRETA",
          "SG_PARTIDO": "PV",
          "TOTAL": 61
         },
         {
          "DS_COR_RACA": "AMARELA",
          "SG_PARTIDO": "REDE",
          "TOTAL": 6
         },
         {
          "DS_COR_RACA": "BRANCA",
          "SG_PARTIDO": "REDE",
          "TOTAL": 353
         },
         {
          "DS_COR_RACA": "INDÍGENA",
          "SG_PARTIDO": "REDE",
          "TOTAL": 9
         },
         {
          "DS_COR_RACA": "PARDA",
          "SG_PARTIDO": "REDE",
          "TOTAL": 319
         },
         {
          "DS_COR_RACA": "PRETA",
          "SG_PARTIDO": "REDE",
          "TOTAL": 119
         },
         {
          "DS_COR_RACA": "BRANCA",
          "SG_PARTIDO": "SOLIDARIEDADE",
          "TOTAL": 355
         },
         {
          "DS_COR_RACA": "INDÍGENA",
          "SG_PARTIDO": "SOLIDARIEDADE",
          "TOTAL": 1
         },
         {
          "DS_COR_RACA": "PARDA",
          "SG_PARTIDO": "SOLIDARIEDADE",
          "TOTAL": 296
         },
         {
          "DS_COR_RACA": "PRETA",
          "SG_PARTIDO": "SOLIDARIEDADE",
          "TOTAL": 64
         }
        ]
       },
       "encoding": {
        "color": {
         "field": "DS_COR_RACA",
         "legend": {
          "title": "Cor"
         },
         "scale": {
          "domain": [
           "AMARELA",
           "BRANCA",
           "INDÍGENA",
           "PARDA",
           "PRETA"
          ],
          "range": [
           "#F6DE93",
           "#FEE5C2",
           "#BD6231",
           "#936036",
           "#2D1D10"
          ]
         },
         "type": "nominal"
        },
        "x": {
         "field": "TOTAL",
         "stack": "normalize",
         "title": "Proporção",
         "type": "quantitative"
        },
        "y": {
         "field": "SG_PARTIDO",
         "title": null,
         "type": "nominal"
        }
       },
       "mark": "bar",
       "title": "Proporção da cor declarada dos candidatos por partido"
      },
      "image/png": "[encoded data removed]",
      "text/plain": [
       "<VegaLite 2 object>\n",
       "\n",
       "If you see this message, it means the renderer has not been properly enabled\n",
       "for the frontend that you are using. For more information, see\n",
       "https://altair-viz.github.io/user_guide/troubleshooting.html\n"
      ]
     },
     "execution_count": 16,
     "metadata": {},
     "output_type": "execute_result"
    }
   ],
   "source": [
    "(\n",
    "    alt\n",
    "    .Chart(\n",
    "        partido_genero_raca_tidy\n",
    "        .groupby(['SG_PARTIDO', 'DS_COR_RACA'])\n",
    "        .TOTAL\n",
    "        .sum()\n",
    "        .reset_index()\n",
    "    )\n",
    "    .mark_bar()\n",
    "    .encode(\n",
    "        x=alt.X('TOTAL:Q', stack='normalize', title='Proporção'),\n",
    "        y=alt.Y('SG_PARTIDO:N', title=None),\n",
    "        color=color,\n",
    "    )\n",
    "    .properties(title='Proporção da cor declarada dos candidatos por partido')\n",
    ")"
   ]
  },
  {
   "cell_type": "code",
   "execution_count": null,
   "metadata": {},
   "outputs": [],
   "source": []
  },
  {
   "cell_type": "code",
   "execution_count": null,
   "metadata": {},
   "outputs": [],
   "source": []
  }
 ],
 "metadata": {
  "kernelspec": {
   "display_name": "Python 3",
   "language": "python",
   "name": "python3"
  },
  "language_info": {
   "codemirror_mode": {
    "name": "ipython",
    "version": 3
   },
   "file_extension": ".py",
   "mimetype": "text/x-python",
   "name": "python",
   "nbconvert_exporter": "python",
   "pygments_lexer": "ipython3",
   "version": "3.7.1"
  }
 },
 "nbformat": 4,
 "nbformat_minor": 2
}
